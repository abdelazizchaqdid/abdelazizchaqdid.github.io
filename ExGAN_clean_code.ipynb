{
  "cells": [
    {
      "cell_type": "markdown",
      "metadata": {
        "id": "view-in-github",
        "colab_type": "text"
      },
      "source": [
        "<a href=\"https://colab.research.google.com/github/abdelazizchaqdid/abdelazizchaqdid.github.io/blob/main/ExGAN_clean_code.ipynb\" target=\"_parent\"><img src=\"https://colab.research.google.com/assets/colab-badge.svg\" alt=\"Open In Colab\"/></a>"
      ]
    },
    {
      "cell_type": "markdown",
      "source": [
        "## Prepeare the environment"
      ],
      "metadata": {
        "id": "uKm6qjDJJgWA"
      }
    },
    {
      "cell_type": "code",
      "execution_count": null,
      "metadata": {
        "colab": {
          "base_uri": "https://localhost:8080/"
        },
        "id": "5gEOlziLimCo",
        "outputId": "6c7da886-1b57-4b86-93a3-ffd2ee8f3af5"
      },
      "outputs": [
        {
          "output_type": "stream",
          "name": "stdout",
          "text": [
            "Reading package lists... Done\n",
            "Building dependency tree... Done\n",
            "Reading state information... Done\n",
            "libgeos-dev is already the newest version (3.11.1-1~jammy0).\n",
            "libgeos-dev set to manually installed.\n",
            "0 upgraded, 0 newly installed, 0 to remove and 39 not upgraded.\n",
            "Collecting https://github.com/matplotlib/basemap/archive/master.zip\n",
            "  Downloading https://github.com/matplotlib/basemap/archive/master.zip\n",
            "\u001b[2K     \u001b[32m|\u001b[0m \u001b[32m129.8 MB\u001b[0m \u001b[31m26.0 MB/s\u001b[0m \u001b[33m0:00:13\u001b[0m\n",
            "\u001b[?25h\u001b[31mERROR: https://github.com/matplotlib/basemap/archive/master.zip does not appear to be a Python project: neither 'setup.py' nor 'pyproject.toml' found.\u001b[0m\u001b[31m\n",
            "\u001b[0mRequirement already satisfied: basemap in /usr/local/lib/python3.10/dist-packages (1.4.1)\n",
            "Requirement already satisfied: basemap-data<1.4,>=1.3.2 in /usr/local/lib/python3.10/dist-packages (from basemap) (1.3.2)\n",
            "Requirement already satisfied: pyshp<2.4,>=1.2 in /usr/local/lib/python3.10/dist-packages (from basemap) (2.3.1)\n",
            "Requirement already satisfied: matplotlib<3.9,>=1.5 in /usr/local/lib/python3.10/dist-packages (from basemap) (3.7.1)\n",
            "Requirement already satisfied: pyproj<3.7.0,>=1.9.3 in /usr/local/lib/python3.10/dist-packages (from basemap) (3.6.1)\n",
            "Requirement already satisfied: packaging<24.0,>=16.0 in /usr/local/lib/python3.10/dist-packages (from basemap) (23.2)\n",
            "Requirement already satisfied: numpy<1.27,>=1.21 in /usr/local/lib/python3.10/dist-packages (from basemap) (1.25.2)\n",
            "Requirement already satisfied: contourpy>=1.0.1 in /usr/local/lib/python3.10/dist-packages (from matplotlib<3.9,>=1.5->basemap) (1.2.0)\n",
            "Requirement already satisfied: cycler>=0.10 in /usr/local/lib/python3.10/dist-packages (from matplotlib<3.9,>=1.5->basemap) (0.12.1)\n",
            "Requirement already satisfied: fonttools>=4.22.0 in /usr/local/lib/python3.10/dist-packages (from matplotlib<3.9,>=1.5->basemap) (4.50.0)\n",
            "Requirement already satisfied: kiwisolver>=1.0.1 in /usr/local/lib/python3.10/dist-packages (from matplotlib<3.9,>=1.5->basemap) (1.4.5)\n",
            "Requirement already satisfied: pillow>=6.2.0 in /usr/local/lib/python3.10/dist-packages (from matplotlib<3.9,>=1.5->basemap) (9.4.0)\n",
            "Requirement already satisfied: pyparsing>=2.3.1 in /usr/local/lib/python3.10/dist-packages (from matplotlib<3.9,>=1.5->basemap) (3.1.2)\n",
            "Requirement already satisfied: python-dateutil>=2.7 in /usr/local/lib/python3.10/dist-packages (from matplotlib<3.9,>=1.5->basemap) (2.8.2)\n",
            "Requirement already satisfied: certifi in /usr/local/lib/python3.10/dist-packages (from pyproj<3.7.0,>=1.9.3->basemap) (2024.2.2)\n",
            "Requirement already satisfied: six>=1.5 in /usr/local/lib/python3.10/dist-packages (from python-dateutil>=2.7->matplotlib<3.9,>=1.5->basemap) (1.16.0)\n",
            "Requirement already satisfied: netCDF4 in /usr/local/lib/python3.10/dist-packages (1.6.5)\n",
            "Requirement already satisfied: cftime in /usr/local/lib/python3.10/dist-packages (from netCDF4) (1.6.3)\n",
            "Requirement already satisfied: certifi in /usr/local/lib/python3.10/dist-packages (from netCDF4) (2024.2.2)\n",
            "Requirement already satisfied: numpy in /usr/local/lib/python3.10/dist-packages (from netCDF4) (1.25.2)\n"
          ]
        }
      ],
      "source": [
        "# Needed to plot rainfall maps. Restart runtime after installation (Option in the cell output)\n",
        "!apt-get install libgeos-dev\n",
        "!pip install https://github.com/matplotlib/basemap/archive/master.zip\n",
        "!pip install basemap\n",
        "!pip install netCDF4\n",
        "!pip install torch==2.0.1 torchvision==0.15.2 torchaudio==2.0.2\n",
        "!pip install tensorboardX"
      ]
    },
    {
      "cell_type": "code",
      "source": [
        "from netCDF4 import Dataset as NetCDFFile\n",
        "import numpy as np\n",
        "import matplotlib.pyplot as plt\n",
        "from datetime import datetime, timedelta\n",
        "from urllib.request import urlretrieve\n",
        "import os\n",
        "from torch.utils.data import Dataset, DataLoader\n",
        "from skimage.transform import resize\n",
        "import torch\n",
        "import torch.nn as nn\n",
        "import torch.nn.functional as F\n",
        "from torch.autograd import Variable\n",
        "from torch import LongTensor, FloatTensor\n",
        "import torch.optim as optim\n",
        "from scipy.stats import skewnorm, genpareto\n",
        "from torchvision.utils import save_image\n",
        "import sys\n",
        "import torch.utils.data\n",
        "from tqdm import tqdm\n",
        "from mpl_toolkits.basemap import Basemap, cm\n",
        "import tensorflow as tf\n",
        "from tensorboardX import SummaryWriter\n",
        "from torchvision import transforms\n",
        "from scipy import linalg\n",
        "import warnings\n",
        "from datetime import datetime\n"
      ],
      "metadata": {
        "id": "_7uJlOhAJ71d"
      },
      "execution_count": null,
      "outputs": []
    },
    {
      "cell_type": "markdown",
      "source": [
        "## Load the data"
      ],
      "metadata": {
        "id": "1q1teckxJ_0p"
      }
    },
    {
      "cell_type": "markdown",
      "source": [
        "### Train data"
      ],
      "metadata": {
        "id": "mpbtvK8AKDvQ"
      }
    },
    {
      "cell_type": "code",
      "execution_count": null,
      "metadata": {
        "colab": {
          "base_uri": "https://localhost:8080/"
        },
        "id": "tulBSGf3d34p",
        "outputId": "0126ef4f-a0b6-4633-9abd-968db8557535"
      },
      "outputs": [
        {
          "output_type": "execute_result",
          "data": {
            "text/plain": [
              "torch.Size([15, 1, 64, 64])"
            ]
          },
          "metadata": {},
          "execution_count": 4
        }
      ],
      "source": [
        "class NWSDataset(Dataset):\n",
        "    \"\"\"\n",
        "    NWS Dataset\n",
        "    \"\"\"\n",
        "\n",
        "    def __init__(\n",
        "        self, path='data', prefix=\"ERA5_RR_\"\n",
        "    ):\n",
        "        self.path = path\n",
        "        self.files = [\n",
        "                        f\n",
        "                        for f in os.listdir(path)\n",
        "                        if f.startswith(prefix) and os.path.isfile(os.path.join(path, f))\n",
        "                    ]\n",
        "        self.maxclip = 100\n",
        "\n",
        "    def __len__(self):\n",
        "        return len(self.files)\n",
        "\n",
        "    def __getitem__(self, item):\n",
        "        nc = NetCDFFile(\n",
        "            os.path.join(self.path,self.files[item])\n",
        "        )\n",
        "        prcpvar = nc.variables[\"tp\"]\n",
        "        data = prcpvar[::-1, :]\n",
        "        data = FloatTensor(data)\n",
        "        data = data.view((-1, 64, 64))\n",
        "        data = torch.clamp(data, max=self.maxclip)\n",
        "        data = data / self.maxclip\n",
        "        data = (data * 2) - 1  # Between -1 and 1\n",
        "        return data\n",
        "\n",
        "dataloader = DataLoader(NWSDataset(), batch_size=256, shuffle=True)\n",
        "data = []\n",
        "for i in dataloader:\n",
        "    data.append(i)\n",
        "data = torch.cat(data, 0)\n",
        "sums = (data.sum(dim=(1,2,3))).detach().cpu().numpy().argsort()[::-1].copy()\n",
        "torch.save(data.data[sums], 'data/real.pt')\n",
        "data.shape"
      ]
    },
    {
      "cell_type": "markdown",
      "source": [
        "### Test data"
      ],
      "metadata": {
        "id": "am6Axn4zKMkb"
      }
    },
    {
      "cell_type": "code",
      "execution_count": null,
      "metadata": {
        "colab": {
          "base_uri": "https://localhost:8080/",
          "height": 332
        },
        "id": "R9NzBF7Shw2L",
        "outputId": "1957c166-6619-4b97-b946-36e8965f56d2"
      },
      "outputs": [
        {
          "output_type": "error",
          "ename": "FileNotFoundError",
          "evalue": "[Errno 2] No such file or directory: 'test'",
          "traceback": [
            "\u001b[0;31m---------------------------------------------------------------------------\u001b[0m",
            "\u001b[0;31mFileNotFoundError\u001b[0m                         Traceback (most recent call last)",
            "\u001b[0;32m<ipython-input-3-eaec524ec377>\u001b[0m in \u001b[0;36m<cell line: 33>\u001b[0;34m()\u001b[0m\n\u001b[1;32m     31\u001b[0m         \u001b[0;32mreturn\u001b[0m \u001b[0mdata\u001b[0m\u001b[0;34m\u001b[0m\u001b[0;34m\u001b[0m\u001b[0m\n\u001b[1;32m     32\u001b[0m \u001b[0;34m\u001b[0m\u001b[0m\n\u001b[0;32m---> 33\u001b[0;31m \u001b[0mdataloader\u001b[0m \u001b[0;34m=\u001b[0m \u001b[0mDataLoader\u001b[0m\u001b[0;34m(\u001b[0m\u001b[0mNWSDataset\u001b[0m\u001b[0;34m(\u001b[0m\u001b[0;34m)\u001b[0m\u001b[0;34m,\u001b[0m \u001b[0mbatch_size\u001b[0m\u001b[0;34m=\u001b[0m\u001b[0;36m256\u001b[0m\u001b[0;34m,\u001b[0m \u001b[0mshuffle\u001b[0m\u001b[0;34m=\u001b[0m\u001b[0;32mTrue\u001b[0m\u001b[0;34m)\u001b[0m\u001b[0;34m\u001b[0m\u001b[0;34m\u001b[0m\u001b[0m\n\u001b[0m\u001b[1;32m     34\u001b[0m \u001b[0mdata\u001b[0m \u001b[0;34m=\u001b[0m \u001b[0;34m[\u001b[0m\u001b[0;34m]\u001b[0m\u001b[0;34m\u001b[0m\u001b[0;34m\u001b[0m\u001b[0m\n\u001b[1;32m     35\u001b[0m \u001b[0;32mfor\u001b[0m \u001b[0mi\u001b[0m \u001b[0;32min\u001b[0m \u001b[0mdataloader\u001b[0m\u001b[0;34m:\u001b[0m\u001b[0;34m\u001b[0m\u001b[0;34m\u001b[0m\u001b[0m\n",
            "\u001b[0;32m<ipython-input-3-eaec524ec377>\u001b[0m in \u001b[0;36m__init__\u001b[0;34m(self, path, prefix)\u001b[0m\n\u001b[1;32m     10\u001b[0m         self.files = [\n\u001b[1;32m     11\u001b[0m                         \u001b[0mf\u001b[0m\u001b[0;34m\u001b[0m\u001b[0;34m\u001b[0m\u001b[0m\n\u001b[0;32m---> 12\u001b[0;31m                         \u001b[0;32mfor\u001b[0m \u001b[0mf\u001b[0m \u001b[0;32min\u001b[0m \u001b[0mos\u001b[0m\u001b[0;34m.\u001b[0m\u001b[0mlistdir\u001b[0m\u001b[0;34m(\u001b[0m\u001b[0mpath\u001b[0m\u001b[0;34m)\u001b[0m\u001b[0;34m\u001b[0m\u001b[0;34m\u001b[0m\u001b[0m\n\u001b[0m\u001b[1;32m     13\u001b[0m                         \u001b[0;32mif\u001b[0m \u001b[0mf\u001b[0m\u001b[0;34m.\u001b[0m\u001b[0mstartswith\u001b[0m\u001b[0;34m(\u001b[0m\u001b[0mprefix\u001b[0m\u001b[0;34m)\u001b[0m \u001b[0;32mand\u001b[0m \u001b[0mos\u001b[0m\u001b[0;34m.\u001b[0m\u001b[0mpath\u001b[0m\u001b[0;34m.\u001b[0m\u001b[0misfile\u001b[0m\u001b[0;34m(\u001b[0m\u001b[0mos\u001b[0m\u001b[0;34m.\u001b[0m\u001b[0mpath\u001b[0m\u001b[0;34m.\u001b[0m\u001b[0mjoin\u001b[0m\u001b[0;34m(\u001b[0m\u001b[0mpath\u001b[0m\u001b[0;34m,\u001b[0m \u001b[0mf\u001b[0m\u001b[0;34m)\u001b[0m\u001b[0;34m)\u001b[0m\u001b[0;34m\u001b[0m\u001b[0;34m\u001b[0m\u001b[0m\n\u001b[1;32m     14\u001b[0m                     ]\n",
            "\u001b[0;31mFileNotFoundError\u001b[0m: [Errno 2] No such file or directory: 'test'"
          ]
        }
      ],
      "source": [
        "\n",
        "class NWSDataset(Dataset):\n",
        "    \"\"\"\n",
        "    NWS Dataset\n",
        "    \"\"\"\n",
        "\n",
        "    def __init__(\n",
        "        self, path='test', prefix=\"ERA5_RR_\"\n",
        "    ):\n",
        "        self.path = path\n",
        "        self.files = [\n",
        "                        f\n",
        "                        for f in os.listdir(path)\n",
        "                        if f.startswith(prefix) and os.path.isfile(os.path.join(path, f))\n",
        "                    ]\n",
        "        self.maxclip = 200\n",
        "\n",
        "    def __len__(self):\n",
        "        return len(self.files)\n",
        "\n",
        "    def __getitem__(self, item):\n",
        "        nc = NetCDFFile(\n",
        "            os.path.join(self.path,self.files[item])\n",
        "        )\n",
        "        prcpvar = nc.variables[\"tp\"]\n",
        "        data = prcpvar[::-1, :]\n",
        "        data = FloatTensor(data)\n",
        "        data = data.view((-1, 64, 64))\n",
        "        data = torch.clamp(data, max=self.maxclip)\n",
        "        data = data / self.maxclip\n",
        "        data = (data * 2) - 1  # Between -1 and 1\n",
        "        return data\n",
        "\n",
        "dataloader = DataLoader(NWSDataset(), batch_size=256, shuffle=True)\n",
        "data = []\n",
        "for i in dataloader:\n",
        "    data.append(i)\n",
        "data = torch.cat(data, 0)\n",
        "sums = (data[:, :, 44:46,42:43].sum(dim=(1,2,3))).detach().cpu().numpy().argsort()[::-1].copy()\n",
        "torch.save(data.data[sums], 'test/test.pt')\n",
        "data.shape"
      ]
    },
    {
      "cell_type": "markdown",
      "source": [
        "## Define a plotting function"
      ],
      "metadata": {
        "id": "YqxDbD0gKUWX"
      }
    },
    {
      "cell_type": "code",
      "execution_count": null,
      "metadata": {
        "id": "6zJUbnpDua76"
      },
      "outputs": [],
      "source": [
        "latcorners = np.array([24, 24, 40 , 40 ])\n",
        "loncorners = np.array([-16,-16, 0,  0])\n",
        "\n",
        "lon_0 = -16 + (0 - (-16))/2\n",
        "lat_0 = 24 + (40 - 24)/2\n",
        "\n",
        "def plot_precip(data):\n",
        "\t'''\n",
        "\tdata is a 813*1051 matrix containing unnormalized precipitation values\n",
        "\t'''\n",
        "\tif len(data.shape) == 3:\n",
        "\t\tdata = data[0]\n",
        "\tdata = (data+1)*50\n",
        "\tfig = plt.figure(figsize=(8,8))\n",
        "\tax = fig.add_axes([0.1,0.1,0.8,0.8])\n",
        "\tm = Basemap(projection='cyl',lon_0=lon_0,lat_0=90.,lat_ts=lat_0,\\\n",
        "\t            llcrnrlat=latcorners[0],urcrnrlat=latcorners[2],\\\n",
        "\t            llcrnrlon=loncorners[0],urcrnrlon=loncorners[2],\\\n",
        "\t            rsphere=6371200.,resolution='i', area_thresh=1000)\n",
        "\tm.drawcoastlines()\n",
        "\tm.drawstates()\n",
        "\tm.drawcountries()\n",
        "\tm.drawlsmask(land_color=\"#FCF8F3\", ocean_color='#E6FFFF')\n",
        "\tparallels = np.arange(0.,90,10.)\n",
        "\tm.drawparallels(parallels,labels=[1,0,0,0],fontsize=10)\n",
        "\tmeridians = np.arange(180.,360.,10.)\n",
        "\tm.drawmeridians(meridians,labels=[0,0,0,1],fontsize=10)\n",
        "\tny = data.shape[0]; nx = data.shape[1]\n",
        "\tlons, lats = m.makegrid(nx, ny) # get lat/lons of ny by nx evenly space grid.\n",
        "\tx, y = m(lons, lats) # compute map proj coordinates.\n",
        "\tclevs = np.array([0,1,2.5,5,7.5,10,15,20,30,40,50,70,100,150,200,250,300,400,500,600,750])\n",
        "\tcs = m.contourf(x,y,data,clevs,cmap=cm.s3pcpn)\n",
        "\tcbar = m.colorbar(cs,location='bottom',pad=\"5%\")\n",
        "\tcbar.set_label('mm')"
      ]
    },
    {
      "cell_type": "markdown",
      "source": [
        "## Define the parameters"
      ],
      "metadata": {
        "id": "2nCrjJIdKvGg"
      }
    },
    {
      "cell_type": "code",
      "execution_count": null,
      "metadata": {
        "id": "27jZrTV_YGbt"
      },
      "outputs": [],
      "source": [
        "LATENT_DIM = 20\n",
        "DATASET_SIZE = 15 # use google drive link to load manually the 2628 file (day)\n",
        "BETAS = (0.5, 0.999)\n",
        "c = 0.75\n",
        "k = 10"
      ]
    },
    {
      "cell_type": "code",
      "execution_count": null,
      "metadata": {
        "id": "jMkvug1wEVhQ"
      },
      "outputs": [],
      "source": [
        "# import netCDF4 as nc\n",
        "# dataset = nc.Dataset('ERA5_RR_1995-01-01.nc')\n",
        "# dataset = dataset.variables['tp'][::-1,:]\n",
        "# dataset.shape\n",
        "# np.where(dataset == 10.354225)\n",
        "# dataset[44:46,42:43].shape"
      ]
    },
    {
      "cell_type": "markdown",
      "source": [
        "## Define the model classes"
      ],
      "metadata": {
        "id": "V6bEq41XKzHe"
      }
    },
    {
      "cell_type": "code",
      "execution_count": null,
      "metadata": {
        "id": "YvspmnyKd8AT"
      },
      "outputs": [],
      "source": [
        "def extremeness_measure(samples):\n",
        "  if len(samples.shape) == 4:\n",
        "    return samples.sum(dim=(1,2,3))/(64*64)\n",
        "  else:\n",
        "    return samples.sum()/(64*64)"
      ]
    },
    {
      "cell_type": "code",
      "execution_count": null,
      "metadata": {
        "id": "s6Gp9V6pOFQR"
      },
      "outputs": [],
      "source": [
        "class NWSDataset(Dataset):\n",
        "    \"\"\"\n",
        "    NWS Dataset\n",
        "    \"\"\"\n",
        "\n",
        "    def __init__(\n",
        "            self, fake='data/fake.pt', c=0.75, i=0, conditional=False\n",
        "    ):\n",
        "        self.conditional = conditional\n",
        "        self.real = torch.load('data/real.pt')\n",
        "        if i > 0:\n",
        "          FRAC = int(DATASET_SIZE * (c ** i))\n",
        "          self.fake = torch.load(fake)\n",
        "          self.data = torch.cat([self.real[:FRAC], self.fake[:DATASET_SIZE-FRAC]], 0)\n",
        "        else:\n",
        "          self.data = self.real\n",
        "        self.data.requires_grad = False\n",
        "\n",
        "    def __len__(self):\n",
        "        return self.data.shape[0]\n",
        "\n",
        "    def __getitem__(self, item):\n",
        "        if self.conditional:\n",
        "          img = self.data[item]\n",
        "          return img, extremeness_measure(img)\n",
        "        else:\n",
        "          return self.data[item]"
      ]
    },
    {
      "cell_type": "code",
      "execution_count": null,
      "metadata": {
        "id": "EM5jquuKOFzT"
      },
      "outputs": [],
      "source": [
        "def weights_init_normal(m):\n",
        "    classname = m.__class__.__name__\n",
        "    if classname.find(\"Conv\") != -1:\n",
        "        torch.nn.init.normal_(m.weight.data, 0.0, 0.02)\n",
        "\n",
        "\n",
        "def convTINReLU(in_channels, out_channels, kernel_size=4, stride=2, padding=1):\n",
        "    return nn.Sequential(\n",
        "        nn.ConvTranspose2d(\n",
        "            in_channels,\n",
        "            out_channels,\n",
        "            kernel_size=kernel_size,\n",
        "            stride=stride,\n",
        "            padding=padding,\n",
        "        ),\n",
        "        nn.InstanceNorm2d(out_channels),\n",
        "        nn.LeakyReLU(0.2, True),\n",
        "    )\n",
        "\n",
        "\n",
        "def convINReLU(in_channels, out_channels, kernel_size=4, stride=2, padding=1):\n",
        "    return nn.Sequential(\n",
        "        nn.Conv2d(\n",
        "            in_channels,\n",
        "            out_channels,\n",
        "            kernel_size=kernel_size,\n",
        "            stride=stride,\n",
        "            padding=padding,\n",
        "        ),\n",
        "        nn.InstanceNorm2d(out_channels),\n",
        "        nn.LeakyReLU(0.2, True),\n",
        "    )\n",
        "\n",
        "\n",
        "class GeneratorUnconditional(nn.Module):\n",
        "    def __init__(self, in_channels, out_channels):\n",
        "        super(GeneratorUnconditional, self).__init__()\n",
        "        self.block1 = convTINReLU(in_channels, 512, 4, 1, 0)\n",
        "        self.block2 = convTINReLU(512, 256)\n",
        "        self.block3 = convTINReLU(256, 128)\n",
        "        self.block4 = convTINReLU(128, 64)\n",
        "        self.block5 = nn.ConvTranspose2d(64, out_channels, 4, 2, 1)\n",
        "\n",
        "    def forward(self, inp):\n",
        "        out = self.block1(inp)\n",
        "        out = self.block2(out)\n",
        "        out = self.block3(out)\n",
        "        out = self.block4(out)\n",
        "        return torch.tanh(self.block5(out))\n",
        "\n",
        "\n",
        "class DiscriminatorUnconditional(nn.Module):\n",
        "    def __init__(self, in_channels):\n",
        "        super(DiscriminatorUnconditional, self).__init__()\n",
        "        self.block1 = convINReLU(in_channels, 64)\n",
        "        self.block2 = convINReLU(64, 128)\n",
        "        self.block3 = convINReLU(128, 256)\n",
        "        self.block4 = convINReLU(256, 512)\n",
        "        self.block5 = nn.Conv2d(512, 64, 4, 1, 0)\n",
        "        self.source = nn.Linear(64, 1)\n",
        "\n",
        "    def forward(self, inp):\n",
        "        out = self.block1(inp)\n",
        "        out = self.block2(out)\n",
        "        out = self.block3(out)\n",
        "        out = self.block4(out)\n",
        "        out = self.block5(out)\n",
        "        size = out.shape[0]\n",
        "        out = out.view(size, -1)\n",
        "        source = torch.sigmoid(self.source(out))\n",
        "        return source"
      ]
    },
    {
      "cell_type": "code",
      "execution_count": null,
      "metadata": {
        "id": "CqVolE84Tiv_"
      },
      "outputs": [],
      "source": [
        "def getTrueFalseTensors(batch_size):\n",
        "  trueTensor = 0.7+0.5*torch.rand((batch_size, 1))\n",
        "  falseTensor = 0.3*torch.rand((batch_size, 1))\n",
        "  probFlip = torch.rand((batch_size, 1)) < 0.05\n",
        "  probFlip = probFlip.float()\n",
        "  trueTensor, falseTensor = (\n",
        "      probFlip * falseTensor + (1 - probFlip) * trueTensor,\n",
        "      probFlip * trueTensor + (1 - probFlip) * falseTensor,\n",
        "  )\n",
        "  return trueTensor.cuda(), falseTensor.cuda()\n",
        "\n",
        "def trainGAN(dataloader, Generator, Discriminator, optimizerGenerator, optimizerDiscrimintor, noise=0):\n",
        "  for images in dataloader:\n",
        "      batch_size = images[0].shape[0]\n",
        "      trueTensor, falseTensor = getTrueFalseTensors(batch_size)\n",
        "      images = images.cuda()\n",
        "      realSource = Discriminator(images + noise*torch.randn_like(images).cuda())\n",
        "      realLoss = criterionSource(realSource, trueTensor.expand_as(realSource))\n",
        "      latent = torch.randn(batch_size, LATENT_DIM, 1, 1).cuda()\n",
        "      fakeData = Generator(latent)\n",
        "      fakeSource = Discriminator(fakeData.detach())\n",
        "      fakeLoss = criterionSource(fakeSource, falseTensor.expand_as(fakeSource))\n",
        "      lossD = realLoss + fakeLoss\n",
        "      optimizerDiscrimintor.zero_grad()\n",
        "      lossD.backward()\n",
        "      torch.nn.utils.clip_grad_norm_(Discriminator.parameters(),20)\n",
        "      optimizerDiscrimintor.step()\n",
        "      fakeSource = Discriminator(fakeData)\n",
        "      trueTensor = 0.9*torch.ones((batch_size, 1)).cuda()\n",
        "      lossG = criterionSource(fakeSource, trueTensor.expand_as(fakeSource))\n",
        "      optimizerGenerator.zero_grad()\n",
        "      lossG.backward()\n",
        "      torch.nn.utils.clip_grad_norm_(Generator.parameters(),20)\n",
        "      optimizerGenerator.step()\n",
        "      return lossG.item(), lossD.item()"
      ]
    },
    {
      "cell_type": "markdown",
      "source": [
        "## Generate Fake images without Distribution shifting"
      ],
      "metadata": {
        "id": "dGiayq3rLJUq"
      }
    },
    {
      "cell_type": "code",
      "execution_count": null,
      "metadata": {
        "colab": {
          "base_uri": "https://localhost:8080/"
        },
        "id": "ULjDSDxHNc8U",
        "outputId": "a909ca68-c630-4c77-d52c-2a2ba5fa86c9"
      },
      "outputs": [
        {
          "output_type": "stream",
          "name": "stderr",
          "text": [
            "100%|██████████| 1000/1000 [01:02<00:00, 16.02it/s, lossD=0.903, lossG=2.45]\n"
          ]
        }
      ],
      "source": [
        "dataloader = DataLoader(NWSDataset(), batch_size=256, shuffle=True)\n",
        "\n",
        "criterionSource = nn.BCELoss()\n",
        "criterionContinuous = nn.L1Loss()\n",
        "criterionValG = nn.L1Loss()\n",
        "criterionValD = nn.L1Loss()\n",
        "UnconditionalG = GeneratorUnconditional(in_channels=LATENT_DIM, out_channels=1).cuda()\n",
        "UnconditionalD = DiscriminatorUnconditional(in_channels=1).cuda()\n",
        "UnconditionalG.apply(weights_init_normal)\n",
        "UnconditionalD.apply(weights_init_normal)\n",
        "\n",
        "optimizerG = optim.Adam(UnconditionalG.parameters(), lr=2e-4, betas=BETAS)\n",
        "optimizerD = optim.Adam(UnconditionalD.parameters(), lr=1e-4, betas=BETAS)\n",
        "static_z = FloatTensor(torch.randn((81, LATENT_DIM, 1, 1))).cuda()\n",
        "\n",
        "DIRNAME = 'DCGAN/'\n",
        "os.makedirs(DIRNAME, exist_ok=True)\n",
        "tk = tqdm(range(1000))\n",
        "for epoch in tk:\n",
        "    noise = 1e-5*max(1 - (epoch/500.0), 0)\n",
        "    lossG, lossD = trainGAN(dataloader, UnconditionalG, UnconditionalD, optimizerG, optimizerD, noise=0)\n",
        "    tk.set_postfix(lossG=lossG, lossD=lossD)\n",
        "UnconditionalG.eval()\n",
        "with torch.no_grad():\n",
        "    fakeSamples = UnconditionalG(Variable(torch.randn(int(DATASET_SIZE/c), LATENT_DIM, 1, 1)).cuda()).cpu()\n",
        "sorted_indices = extremeness_measure(fakeSamples).numpy().argsort()[::-1].copy()\n",
        "UnconditionalG.train()\n",
        "torch.save(fakeSamples[sorted_indices], 'data/fake.pt')"
      ]
    },
    {
      "cell_type": "code",
      "execution_count": null,
      "metadata": {
        "colab": {
          "base_uri": "https://localhost:8080/",
          "height": 726
        },
        "id": "3LSBy30sP0Wq",
        "outputId": "2292fa8e-2dd3-4eb1-d7bb-a394970a6c52"
      },
      "outputs": [
        {
          "output_type": "display_data",
          "data": {
            "text/plain": [
              "<Figure size 800x800 with 2 Axes>"
            ],
            "image/png": "[encoded data removed]"
          },
          "metadata": {}
        }
      ],
      "source": [
        "plot_precip(fakeSamples[10])"
      ]
    },
    {
      "cell_type": "markdown",
      "source": [
        "## Generate Fake images with Distribution shifting"
      ],
      "metadata": {
        "id": "OBt0_drpLWbF"
      }
    },
    {
      "cell_type": "code",
      "execution_count": null,
      "metadata": {
        "colab": {
          "base_uri": "https://localhost:8080/"
        },
        "id": "hYE-egU4PXnS",
        "outputId": "c534119e-7915-4c54-d585-7488763a8a79"
      },
      "outputs": [
        {
          "output_type": "stream",
          "name": "stdout",
          "text": [
            "Distribution Shift: Iteration  1\n"
          ]
        },
        {
          "output_type": "stream",
          "name": "stderr",
          "text": [
            "100%|██████████| 100/100 [00:03<00:00, 29.03it/s, lossD=3.42, lossG=1.63]\n"
          ]
        },
        {
          "output_type": "stream",
          "name": "stdout",
          "text": [
            "Distribution Shift: Iteration  2\n"
          ]
        },
        {
          "output_type": "stream",
          "name": "stderr",
          "text": [
            "100%|██████████| 100/100 [00:02<00:00, 34.45it/s, lossD=0.844, lossG=1.57]\n"
          ]
        },
        {
          "output_type": "stream",
          "name": "stdout",
          "text": [
            "Distribution Shift: Iteration  3\n"
          ]
        },
        {
          "output_type": "stream",
          "name": "stderr",
          "text": [
            "100%|██████████| 100/100 [00:02<00:00, 34.88it/s, lossD=2.66, lossG=1.26]\n"
          ]
        },
        {
          "output_type": "stream",
          "name": "stdout",
          "text": [
            "Distribution Shift: Iteration  4\n"
          ]
        },
        {
          "output_type": "stream",
          "name": "stderr",
          "text": [
            "100%|██████████| 100/100 [00:02<00:00, 34.95it/s, lossD=1.33, lossG=0.531]\n"
          ]
        },
        {
          "output_type": "stream",
          "name": "stdout",
          "text": [
            "Distribution Shift: Iteration  5\n"
          ]
        },
        {
          "output_type": "stream",
          "name": "stderr",
          "text": [
            "100%|██████████| 100/100 [00:03<00:00, 31.41it/s, lossD=1.72, lossG=0.467]\n"
          ]
        },
        {
          "output_type": "stream",
          "name": "stdout",
          "text": [
            "Distribution Shift: Iteration  6\n"
          ]
        },
        {
          "output_type": "stream",
          "name": "stderr",
          "text": [
            "100%|██████████| 100/100 [00:02<00:00, 34.79it/s, lossD=1.67, lossG=0.447]\n"
          ]
        },
        {
          "output_type": "stream",
          "name": "stdout",
          "text": [
            "Distribution Shift: Iteration  7\n"
          ]
        },
        {
          "output_type": "stream",
          "name": "stderr",
          "text": [
            "100%|██████████| 100/100 [00:02<00:00, 34.33it/s, lossD=1.74, lossG=0.39]\n"
          ]
        },
        {
          "output_type": "stream",
          "name": "stdout",
          "text": [
            "Distribution Shift: Iteration  8\n"
          ]
        },
        {
          "output_type": "stream",
          "name": "stderr",
          "text": [
            "100%|██████████| 100/100 [00:02<00:00, 34.11it/s, lossD=1.59, lossG=0.431]\n"
          ]
        },
        {
          "output_type": "stream",
          "name": "stdout",
          "text": [
            "Distribution Shift: Iteration  9\n"
          ]
        },
        {
          "output_type": "stream",
          "name": "stderr",
          "text": [
            "100%|██████████| 100/100 [00:03<00:00, 29.45it/s, lossD=1.45, lossG=0.695]\n"
          ]
        }
      ],
      "source": [
        "optimizerG = optim.Adam(UnconditionalG.parameters(), lr=2e-5, betas=BETAS)\n",
        "optimizerD = optim.Adam(UnconditionalD.parameters(), lr=1e-5, betas=BETAS)\n",
        "\n",
        "c = 0.75\n",
        "k = 10\n",
        "DIRNAME = 'DistShift/'\n",
        "os.makedirs(DIRNAME, exist_ok=True)\n",
        "\n",
        "fake_name = 'data/fake.pt'\n",
        "for i in range(1, k):\n",
        "    print(\"Distribution Shift: Iteration \", i)\n",
        "    dataloader = DataLoader(NWSDataset(fake=fake_name, c=c, i=i), batch_size=256, shuffle=True)\n",
        "    tk = tqdm(range(0, 100))\n",
        "    for epoch in tk:\n",
        "        lossG, lossD = trainGAN(dataloader, UnconditionalG, UnconditionalD, optimizerG, optimizerD)\n",
        "        tk.set_postfix(lossG=lossG, lossD=lossD)\n",
        "    with torch.no_grad():\n",
        "        UnconditionalG.eval()\n",
        "        fsize = int((1 - (c ** (i + 1))) * DATASET_SIZE / c)\n",
        "        fakeSamples = UnconditionalG(torch.randn(fsize, LATENT_DIM, 1, 1).cuda()).cpu()\n",
        "        sorted_indices = extremeness_measure(fakeSamples).numpy().argsort()[::-1].copy()\n",
        "        fake_name = DIRNAME + 'fake' + str(i + 1) + '.pt'\n",
        "        torch.save(fakeSamples.data[sorted_indices], fake_name)\n",
        "        UnconditionalG.train()"
      ]
    },
    {
      "cell_type": "code",
      "execution_count": null,
      "metadata": {
        "colab": {
          "base_uri": "https://localhost:8080/",
          "height": 726
        },
        "id": "IXN9Q3Q0Q8tB",
        "outputId": "b74dc3e2-26c0-4446-95da-c5f96b0d2132"
      },
      "outputs": [
        {
          "output_type": "display_data",
          "data": {
            "text/plain": [
              "<Figure size 800x800 with 2 Axes>"
            ],
            "image/png": "[encoded data removed]"
          },
          "metadata": {}
        }
      ],
      "source": [
        "plot_precip(torch.load(DIRNAME+'fake'+str(k)+'.pt')[12])"
      ]
    },
    {
      "cell_type": "markdown",
      "source": [
        "## Fitting a Generalized Pareto distribution"
      ],
      "metadata": {
        "id": "IyjzjL6HOIek"
      }
    },
    {
      "cell_type": "code",
      "execution_count": null,
      "metadata": {
        "id": "2mYlvNqAW9ER"
      },
      "outputs": [],
      "source": [
        "dataset = NWSDataset(fake='DistShift/fake'+str(k)+'.pt', c=c, i=k, conditional=True)"
      ]
    },
    {
      "cell_type": "code",
      "execution_count": null,
      "metadata": {
        "id": "59uuZBRCoU23"
      },
      "outputs": [],
      "source": [
        "measures = extremeness_measure(dataset.data)\n",
        "threshold = measures.min() # Already tail of the data\n",
        "tail = measures[np.where(measures > threshold)[0]]"
      ]
    },
    {
      "cell_type": "code",
      "execution_count": null,
      "metadata": {
        "id": "XuAWGTzEbOKD"
      },
      "outputs": [],
      "source": [
        "genpareto_params = genpareto.fit(tail-threshold)"
      ]
    },
    {
      "cell_type": "code",
      "source": [
        "# print the parameters you will need them for evaluation\n",
        "print(genpareto_params)\n",
        "print(threshold)"
      ],
      "metadata": {
        "colab": {
          "base_uri": "https://localhost:8080/"
        },
        "id": "vE-NsekqQxHY",
        "outputId": "6bca82da-e1a9-4a0a-ceba-b815e2e8a411"
      },
      "execution_count": null,
      "outputs": [
        {
          "output_type": "stream",
          "name": "stdout",
          "text": [
            "(0.45467089272564376, 4.243841361308569e-05, 0.0003078780456579492)\n",
            "tensor(-0.9906)\n"
          ]
        }
      ]
    },
    {
      "cell_type": "markdown",
      "source": [
        "## Training the model"
      ],
      "metadata": {
        "id": "E2T-OPQ8Of_S"
      }
    },
    {
      "cell_type": "code",
      "execution_count": null,
      "metadata": {
        "colab": {
          "base_uri": "https://localhost:8080/"
        },
        "id": "rCaGGW7ZUf9s",
        "outputId": "3f7e529c-dfce-4580-9aa6-789acd0b4f8a"
      },
      "outputs": [
        {
          "output_type": "stream",
          "name": "stderr",
          "text": [
            "100%|██████████| 1000/1000 [00:59<00:00, 16.94it/s, lossD=0.997, lossG=2.74]\n"
          ]
        }
      ],
      "source": [
        " class GeneratorConditional(nn.Module):\n",
        "    def __init__(self, in_channels, out_channels):\n",
        "        super(GeneratorConditional, self).__init__()\n",
        "        self.block1 = convTINReLU(in_channels + 1, 512, 4, 1, 0)\n",
        "        self.block2 = convTINReLU(512, 256)\n",
        "        self.block3 = convTINReLU(256, 128)\n",
        "        self.block4 = convTINReLU(128, 64)\n",
        "        self.block5 = nn.ConvTranspose2d(64, out_channels, 4, 2, 1)\n",
        "\n",
        "    def forward(self, latent, continuous_code):\n",
        "        inp = torch.cat((latent, continuous_code), 1)\n",
        "        out = self.block1(inp)\n",
        "        out = self.block2(out)\n",
        "        out = self.block3(out)\n",
        "        out = self.block4(out)\n",
        "        return torch.tanh(self.block5(out))\n",
        "\n",
        "class DiscriminatorConditional(nn.Module):\n",
        "    def __init__(self, in_channels):\n",
        "        super(DiscriminatorConditional, self).__init__()\n",
        "        self.block1 = convINReLU(in_channels, 64)\n",
        "        self.block2 = convINReLU(64, 128)\n",
        "        self.block3 = convINReLU(128, 256)\n",
        "        self.block4 = convINReLU(256, 512)\n",
        "        self.block5 = nn.Conv2d(512, 64, 4, 1, 0)\n",
        "        self.source = nn.Linear(64 + 1, 1)\n",
        "\n",
        "    def forward(self, inp, extreme):\n",
        "        sums = extremeness_measure(inp)\n",
        "        diff = torch.abs(extreme.view(-1, 1) - sums.view(-1, 1)) / torch.abs(extreme.view(-1, 1))\n",
        "        out = self.block1(inp)\n",
        "        out = self.block2(out)\n",
        "        out = self.block3(out)\n",
        "        out = self.block4(out)\n",
        "        out = self.block5(out)\n",
        "        size = out.shape[0]\n",
        "        out = out.view(size, -1)\n",
        "        source = torch.sigmoid(self.source(torch.cat([out, diff], 1)))\n",
        "        return source\n",
        "\n",
        "\n",
        "criterionSource = nn.BCELoss()\n",
        "G = GeneratorConditional(in_channels=LATENT_DIM, out_channels=1).cuda()\n",
        "D = DiscriminatorConditional(in_channels=1).cuda()\n",
        "G.apply(weights_init_normal)\n",
        "D.apply(weights_init_normal)\n",
        "\n",
        "rv = genpareto(*genpareto_params)\n",
        "\n",
        "c = 0.75\n",
        "k = 10\n",
        "\n",
        "def sample_genpareto(size):\n",
        "    probs = torch.rand(size)\n",
        "    return FloatTensor(rv.ppf(probs)) + threshold\n",
        "\n",
        "\n",
        "optimizerG = optim.Adam(G.parameters(), lr=2e-4, betas=BETAS)\n",
        "optimizerD = optim.Adam(D.parameters(), lr=1e-4, betas=BETAS)\n",
        "static_code = sample_genpareto((81, 1, 1, 1)).cuda()\n",
        "static_z = FloatTensor(torch.randn((81, LATENT_DIM, 1, 1))).cuda()\n",
        "\n",
        "def sample_image(batches_done):\n",
        "    static_sample = G(static_z, static_code).cpu()\n",
        "    static_sample = (static_sample + 1) / 2.0\n",
        "    save_image(static_sample, DIRNAME + \"%d.png\" % batches_done, nrow=9)\n",
        "\n",
        "DIRNAME = 'ExGAN/'\n",
        "os.makedirs(DIRNAME, exist_ok=True)\n",
        "fakename = 'DistShift/fake'+str(k)+'.pt'\n",
        "dataloader = DataLoader(dataset, batch_size=256, shuffle=True)\n",
        "tk = tqdm(range(0, 1000)) # Actual Number of Epochs is 1000\n",
        "for epoch in tk:\n",
        "    noise = 1e-5 * max(1 - (epoch / 1000.0), 0)\n",
        "    for images, labels in dataloader:\n",
        "        batch_size = images.shape[0]\n",
        "        trueTensor, falseTensor = getTrueFalseTensors(batch_size)\n",
        "        images, labels = images.cuda(), labels.view(-1, 1).cuda()\n",
        "        realSource = D(images, labels)\n",
        "        realLoss = criterionSource(realSource, trueTensor.expand_as(realSource))\n",
        "        latent = torch.randn(batch_size, LATENT_DIM, 1, 1).cuda()\n",
        "        code = sample_genpareto((batch_size, 1, 1, 1)).cuda()\n",
        "        fakeGen = G(latent, code)\n",
        "        fakeGenSource = D(fakeGen.detach(), code)\n",
        "        fakeGenLoss = criterionSource(fakeGenSource, falseTensor.expand_as(fakeGenSource))\n",
        "        lossD = realLoss + fakeGenLoss\n",
        "        optimizerD.zero_grad()\n",
        "        lossD.backward()\n",
        "        torch.nn.utils.clip_grad_norm_(D.parameters(), 20)\n",
        "        optimizerD.step()\n",
        "        fakeGenSource = D(fakeGen, code)\n",
        "        fakeLabels = extremeness_measure(fakeGen)\n",
        "        L_ext = torch.mean(torch.abs((fakeLabels - code.view(batch_size)) / code.view(batch_size)))\n",
        "        lossG = criterionSource(fakeGenSource, trueTensor.expand_as(fakeGenSource)) + L_ext\n",
        "        optimizerG.zero_grad()\n",
        "        lossG.backward()\n",
        "        torch.nn.utils.clip_grad_norm_(G.parameters(), 20)\n",
        "        optimizerG.step()\n",
        "    tk.set_postfix(lossG=lossG.item(), lossD=lossD.item())"
      ]
    },
    {
      "cell_type": "code",
      "execution_count": null,
      "metadata": {
        "id": "qIDC3E6Lpfgp"
      },
      "outputs": [],
      "source": [
        "# save the model\n",
        "import torch\n",
        "torch.save(G, \"G.pt\")\n",
        "torch.save(G.state_dict(), 'G_dict.pt')"
      ]
    },
    {
      "cell_type": "code",
      "source": [
        "# in case you want to download the model to your local machine\n",
        "from google.colab import files\n",
        "files.download('G.pt')\n",
        "files.download('G_dict.pt')"
      ],
      "metadata": {
        "id": "sTvRjifoQKM_"
      },
      "execution_count": null,
      "outputs": []
    },
    {
      "cell_type": "markdown",
      "source": [
        "## Generate new images"
      ],
      "metadata": {
        "id": "HlGnvlxlPQyg"
      }
    },
    {
      "cell_type": "code",
      "execution_count": null,
      "metadata": {
        "id": "Qw1ZEuTDadmS"
      },
      "outputs": [],
      "source": [
        "G.eval()\n",
        "tau = 1/(365*100) # play with the threshold\n",
        "tau_prime = tau/c**k\n",
        "val = rv.ppf((1-tau_prime)) + threshold\n",
        "code = torch.ones(1000, 1, 1, 1).cuda()*val # this generates 1000 new images\n",
        "latent = torch.randn((1000, LATENT_DIM, 1, 1)).cuda()\n",
        "with torch.no_grad():\n",
        "  images = G(latent, code).cpu()"
      ]
    },
    {
      "cell_type": "code",
      "execution_count": null,
      "metadata": {
        "colab": {
          "base_uri": "https://localhost:8080/"
        },
        "id": "c1QW_cF9uF7C",
        "outputId": "584de87d-7e68-40b4-bcda-e62a9d44d261"
      },
      "outputs": [
        {
          "output_type": "execute_result",
          "data": {
            "text/plain": [
              "tensor(3.2626)"
            ]
          },
          "metadata": {},
          "execution_count": 31
        }
      ],
      "source": [
        "((images[:,0,45,40]+1)*100).max()"
      ]
    },
    {
      "cell_type": "code",
      "execution_count": null,
      "metadata": {
        "colab": {
          "base_uri": "https://localhost:8080/",
          "height": 726
        },
        "id": "rhfsXOrNa9dJ",
        "outputId": "a287fd17-85dc-49a2-e496-935e131de08b"
      },
      "outputs": [
        {
          "output_type": "display_data",
          "data": {
            "text/plain": [
              "<Figure size 800x800 with 2 Axes>"
            ],
            "image/png": "[encoded data removed]"
          },
          "metadata": {}
        }
      ],
      "source": [
        "plot_precip(images[9]) # Feel free to change tau, and look at more samples"
      ]
    },
    {
      "cell_type": "markdown",
      "source": [
        "## Evaluation of ExGAN"
      ],
      "metadata": {
        "id": "ZPds6MwtRPtY"
      }
    },
    {
      "cell_type": "markdown",
      "source": [
        "#### Generate images with different thresholds of extremeness\n",
        "\n"
      ],
      "metadata": {
        "id": "cM8WlAqWSBU8"
      }
    },
    {
      "cell_type": "code",
      "source": [
        "def convTBNReLU(in_channels, out_channels, kernel_size=4, stride=2, padding=1):\n",
        "    return nn.Sequential(\n",
        "        nn.ConvTranspose2d(\n",
        "            in_channels,\n",
        "            out_channels,\n",
        "            kernel_size=kernel_size,\n",
        "            stride=stride,\n",
        "            padding=padding,\n",
        "        ),\n",
        "        nn.InstanceNorm2d(out_channels),\n",
        "        nn.LeakyReLU(0.2, True),\n",
        "    )\n",
        "\n",
        "\n",
        "class Generator(nn.Module):\n",
        "    def __init__(self, in_channels, out_channels):\n",
        "        super(Generator, self).__init__()\n",
        "        self.in_channels = in_channels\n",
        "        self.out_channels = out_channels\n",
        "        self.block1 = convTBNReLU(in_channels + 1, 512, 4, 1, 0)\n",
        "        self.block2 = convTBNReLU(512, 256)\n",
        "        self.block3 = convTBNReLU(256, 128)\n",
        "        self.block4 = convTBNReLU(128, 64)\n",
        "        self.block5 = nn.ConvTranspose2d(64, out_channels, 4, 2, 1)\n",
        "\n",
        "    def forward(self, latent, continuous_code):\n",
        "        inp = torch.cat((latent, continuous_code), 1)\n",
        "        out = self.block1(inp)\n",
        "        out = self.block2(out)\n",
        "        out = self.block3(out)\n",
        "        out = self.block4(out)\n",
        "        return torch.tanh(self.block5(out))\n",
        "\n",
        "latentdim = 20\n",
        "G = Generator(in_channels=latentdim, out_channels=1).cuda()\n",
        "genpareto_params = (1.33, 0, 0.0075761900937239765)\n",
        "threshold = -0.946046018600464\n",
        "rv = genpareto(*genpareto_params)\n",
        "\n",
        "G.load_state_dict(torch.load('G_dict.pt'))\n",
        "G.eval()\n",
        "\n",
        "c = 0.75\n",
        "k = 10\n",
        "for tau in [0.05, 0.02, 0.01,1/(365*10), 1/(365*100)]:\n",
        "    tau_prime = tau / (c**k)\n",
        "    val = rv.ppf(1-tau_prime) + threshold\n",
        "    code = Variable(torch.ones(500, 1, 1, 1)*val).cuda(0)\n",
        "    latent = Variable(FloatTensor(torch.randn((500, latentdim, 1, 1)))).cuda(0)\n",
        "    images = G(latent, code)\n",
        "    torch.save(0.5*(images+1), 'ExGAN'+str(tau)+'.pt')"
      ],
      "metadata": {
        "colab": {
          "base_uri": "https://localhost:8080/"
        },
        "id": "lJNLTX6UgJ9I",
        "outputId": "4b6ec226-3f5f-444c-a741-53255879d547"
      },
      "execution_count": null,
      "outputs": [
        {
          "output_type": "stream",
          "name": "stdout",
          "text": [
            "0.003353118896484375\n",
            "0.0030176639556884766\n",
            "0.006348609924316406\n",
            "0.002890348434448242\n",
            "0.002061605453491211\n"
          ]
        }
      ]
    },
    {
      "cell_type": "markdown",
      "source": [
        "#### Compute the reconstruction loss function(ability to reconstruct unseen extreme samples)\n",
        "\n"
      ],
      "metadata": {
        "id": "wQO8-nOWWfy6"
      }
    },
    {
      "cell_type": "code",
      "source": [
        "def convTBNReLU(in_channels, out_channels, kernel_size=4, stride=2, padding=1):\n",
        "    return nn.Sequential(\n",
        "        nn.ConvTranspose2d(\n",
        "            in_channels,\n",
        "            out_channels,\n",
        "            kernel_size=kernel_size,\n",
        "            stride=stride,\n",
        "            padding=padding,\n",
        "        ),\n",
        "        nn.InstanceNorm2d(out_channels),\n",
        "        nn.LeakyReLU(0.2, True),\n",
        "    )\n",
        "\n",
        "\n",
        "class Generator(nn.Module):\n",
        "    def __init__(self, in_channels, out_channels):\n",
        "        super(Generator, self).__init__()\n",
        "        self.in_channels = in_channels\n",
        "        self.out_channels = out_channels\n",
        "        self.block1 = convTBNReLU(in_channels + 1, 512, 4, 1, 0)\n",
        "        self.block2 = convTBNReLU(512, 256)\n",
        "        self.block3 = convTBNReLU(256, 128)\n",
        "        self.block4 = convTBNReLU(128, 64)\n",
        "        self.block5 = nn.ConvTranspose2d(64, out_channels, 4, 2, 1)\n",
        "\n",
        "    def forward(self, latent, continuous_code):\n",
        "        inp = torch.cat((latent, continuous_code), 1)\n",
        "        out = self.block1(inp)\n",
        "        out = self.block2(out)\n",
        "        out = self.block3(out)\n",
        "        out = self.block4(out)\n",
        "        return torch.tanh(self.block5(out))\n",
        "\n",
        "latentdim = 20\n",
        "G = Generator(in_channels=latentdim, out_channels=1).cuda()\n",
        "genpareto_params = (1.33, 0, 0.0075761900937239765)\n",
        "threshold = -0.946046018600464\n",
        "rv = genpareto(*genpareto_params)\n",
        "\n",
        "G.load_state_dict(torch.load('G_dict.pt'))\n",
        "G.eval()\n",
        "\n",
        "num = 1503\n",
        "G.requires_grad = False\n",
        "real = torch.load('data/real.pt').cuda()\n",
        "z = torch.zeros((num, latentdim, 1, 1)).cuda()\n",
        "code = (real.sum((1, 2, 3))/4096).view((num, 1, 1, 1))\n",
        "z.requires_grad = True\n",
        "optimizer = torch.optim.Adam([z], lr=1e-2)\n",
        "criterion = nn.MSELoss()\n",
        "for i in range(2000):\n",
        "    pred = G(z, code)\n",
        "    loss = criterion(pred, real)\n",
        "    optimizer.zero_grad()\n",
        "    loss.backward()\n",
        "    optimizer.step()\n",
        "    print(loss)"
      ],
      "metadata": {
        "colab": {
          "base_uri": "https://localhost:8080/",
          "height": 1000
        },
        "id": "jEbQ5k2-iHDo",
        "outputId": "624dbf53-a1d7-4cdc-884f-18ecfefe0d0b"
      },
      "execution_count": null,
      "outputs": [
        {
          "output_type": "stream",
          "name": "stdout",
          "text": [
            "tensor(0.0029, device='cuda:0', grad_fn=<MseLossBackward0>)\n",
            "tensor(0.0028, device='cuda:0', grad_fn=<MseLossBackward0>)\n",
            "tensor(0.0027, device='cuda:0', grad_fn=<MseLossBackward0>)\n",
            "tensor(0.0027, device='cuda:0', grad_fn=<MseLossBackward0>)\n",
            "tensor(0.0026, device='cuda:0', grad_fn=<MseLossBackward0>)\n",
            "tensor(0.0026, device='cuda:0', grad_fn=<MseLossBackward0>)\n",
            "tensor(0.0025, device='cuda:0', grad_fn=<MseLossBackward0>)\n",
            "tensor(0.0024, device='cuda:0', grad_fn=<MseLossBackward0>)\n",
            "tensor(0.0024, device='cuda:0', grad_fn=<MseLossBackward0>)\n",
            "tensor(0.0024, device='cuda:0', grad_fn=<MseLossBackward0>)\n",
            "tensor(0.0023, device='cuda:0', grad_fn=<MseLossBackward0>)\n",
            "tensor(0.0023, device='cuda:0', grad_fn=<MseLossBackward0>)\n",
            "tensor(0.0022, device='cuda:0', grad_fn=<MseLossBackward0>)\n",
            "tensor(0.0022, device='cuda:0', grad_fn=<MseLossBackward0>)\n",
            "tensor(0.0022, device='cuda:0', grad_fn=<MseLossBackward0>)\n",
            "tensor(0.0021, device='cuda:0', grad_fn=<MseLossBackward0>)\n",
            "tensor(0.0021, device='cuda:0', grad_fn=<MseLossBackward0>)\n",
            "tensor(0.0021, device='cuda:0', grad_fn=<MseLossBackward0>)\n",
            "tensor(0.0021, device='cuda:0', grad_fn=<MseLossBackward0>)\n",
            "tensor(0.0020, device='cuda:0', grad_fn=<MseLossBackward0>)\n",
            "tensor(0.0020, device='cuda:0', grad_fn=<MseLossBackward0>)\n",
            "tensor(0.0020, device='cuda:0', grad_fn=<MseLossBackward0>)\n",
            "tensor(0.0020, device='cuda:0', grad_fn=<MseLossBackward0>)\n",
            "tensor(0.0020, device='cuda:0', grad_fn=<MseLossBackward0>)\n",
            "tensor(0.0019, device='cuda:0', grad_fn=<MseLossBackward0>)\n",
            "tensor(0.0019, device='cuda:0', grad_fn=<MseLossBackward0>)\n",
            "tensor(0.0019, device='cuda:0', grad_fn=<MseLossBackward0>)\n",
            "tensor(0.0019, device='cuda:0', grad_fn=<MseLossBackward0>)\n",
            "tensor(0.0019, device='cuda:0', grad_fn=<MseLossBackward0>)\n",
            "tensor(0.0019, device='cuda:0', grad_fn=<MseLossBackward0>)\n",
            "tensor(0.0019, device='cuda:0', grad_fn=<MseLossBackward0>)\n",
            "tensor(0.0019, device='cuda:0', grad_fn=<MseLossBackward0>)\n",
            "tensor(0.0019, device='cuda:0', grad_fn=<MseLossBackward0>)\n",
            "tensor(0.0019, device='cuda:0', grad_fn=<MseLossBackward0>)\n",
            "tensor(0.0018, device='cuda:0', grad_fn=<MseLossBackward0>)\n",
            "tensor(0.0018, device='cuda:0', grad_fn=<MseLossBackward0>)\n",
            "tensor(0.0018, device='cuda:0', grad_fn=<MseLossBackward0>)\n",
            "tensor(0.0018, device='cuda:0', grad_fn=<MseLossBackward0>)\n",
            "tensor(0.0018, device='cuda:0', grad_fn=<MseLossBackward0>)\n",
            "tensor(0.0018, device='cuda:0', grad_fn=<MseLossBackward0>)\n",
            "tensor(0.0018, device='cuda:0', grad_fn=<MseLossBackward0>)\n",
            "tensor(0.0018, device='cuda:0', grad_fn=<MseLossBackward0>)\n",
            "tensor(0.0018, device='cuda:0', grad_fn=<MseLossBackward0>)\n",
            "tensor(0.0018, device='cuda:0', grad_fn=<MseLossBackward0>)\n",
            "tensor(0.0018, device='cuda:0', grad_fn=<MseLossBackward0>)\n",
            "tensor(0.0018, device='cuda:0', grad_fn=<MseLossBackward0>)\n",
            "tensor(0.0018, device='cuda:0', grad_fn=<MseLossBackward0>)\n",
            "tensor(0.0018, device='cuda:0', grad_fn=<MseLossBackward0>)\n",
            "tensor(0.0018, device='cuda:0', grad_fn=<MseLossBackward0>)\n",
            "tensor(0.0018, device='cuda:0', grad_fn=<MseLossBackward0>)\n",
            "tensor(0.0018, device='cuda:0', grad_fn=<MseLossBackward0>)\n",
            "tensor(0.0018, device='cuda:0', grad_fn=<MseLossBackward0>)\n",
            "tensor(0.0018, device='cuda:0', grad_fn=<MseLossBackward0>)\n",
            "tensor(0.0018, device='cuda:0', grad_fn=<MseLossBackward0>)\n",
            "tensor(0.0017, device='cuda:0', grad_fn=<MseLossBackward0>)\n",
            "tensor(0.0017, device='cuda:0', grad_fn=<MseLossBackward0>)\n",
            "tensor(0.0017, device='cuda:0', grad_fn=<MseLossBackward0>)\n",
            "tensor(0.0017, device='cuda:0', grad_fn=<MseLossBackward0>)\n",
            "tensor(0.0017, device='cuda:0', grad_fn=<MseLossBackward0>)\n",
            "tensor(0.0017, device='cuda:0', grad_fn=<MseLossBackward0>)\n",
            "tensor(0.0017, device='cuda:0', grad_fn=<MseLossBackward0>)\n",
            "tensor(0.0017, device='cuda:0', grad_fn=<MseLossBackward0>)\n",
            "tensor(0.0017, device='cuda:0', grad_fn=<MseLossBackward0>)\n",
            "tensor(0.0017, device='cuda:0', grad_fn=<MseLossBackward0>)\n",
            "tensor(0.0017, device='cuda:0', grad_fn=<MseLossBackward0>)\n",
            "tensor(0.0017, device='cuda:0', grad_fn=<MseLossBackward0>)\n",
            "tensor(0.0017, device='cuda:0', grad_fn=<MseLossBackward0>)\n",
            "tensor(0.0017, device='cuda:0', grad_fn=<MseLossBackward0>)\n",
            "tensor(0.0017, device='cuda:0', grad_fn=<MseLossBackward0>)\n",
            "tensor(0.0017, device='cuda:0', grad_fn=<MseLossBackward0>)\n",
            "tensor(0.0017, device='cuda:0', grad_fn=<MseLossBackward0>)\n",
            "tensor(0.0017, device='cuda:0', grad_fn=<MseLossBackward0>)\n",
            "tensor(0.0017, device='cuda:0', grad_fn=<MseLossBackward0>)\n",
            "tensor(0.0017, device='cuda:0', grad_fn=<MseLossBackward0>)\n",
            "tensor(0.0017, device='cuda:0', grad_fn=<MseLossBackward0>)\n",
            "tensor(0.0017, device='cuda:0', grad_fn=<MseLossBackward0>)\n",
            "tensor(0.0017, device='cuda:0', grad_fn=<MseLossBackward0>)\n",
            "tensor(0.0017, device='cuda:0', grad_fn=<MseLossBackward0>)\n",
            "tensor(0.0017, device='cuda:0', grad_fn=<MseLossBackward0>)\n",
            "tensor(0.0017, device='cuda:0', grad_fn=<MseLossBackward0>)\n",
            "tensor(0.0017, device='cuda:0', grad_fn=<MseLossBackward0>)\n",
            "tensor(0.0017, device='cuda:0', grad_fn=<MseLossBackward0>)\n",
            "tensor(0.0017, device='cuda:0', grad_fn=<MseLossBackward0>)\n",
            "tensor(0.0017, device='cuda:0', grad_fn=<MseLossBackward0>)\n",
            "tensor(0.0017, device='cuda:0', grad_fn=<MseLossBackward0>)\n",
            "tensor(0.0017, device='cuda:0', grad_fn=<MseLossBackward0>)\n",
            "tensor(0.0017, device='cuda:0', grad_fn=<MseLossBackward0>)\n",
            "tensor(0.0017, device='cuda:0', grad_fn=<MseLossBackward0>)\n",
            "tensor(0.0017, device='cuda:0', grad_fn=<MseLossBackward0>)\n",
            "tensor(0.0017, device='cuda:0', grad_fn=<MseLossBackward0>)\n",
            "tensor(0.0017, device='cuda:0', grad_fn=<MseLossBackward0>)\n",
            "tensor(0.0017, device='cuda:0', grad_fn=<MseLossBackward0>)\n",
            "tensor(0.0017, device='cuda:0', grad_fn=<MseLossBackward0>)\n",
            "tensor(0.0017, device='cuda:0', grad_fn=<MseLossBackward0>)\n",
            "tensor(0.0017, device='cuda:0', grad_fn=<MseLossBackward0>)\n",
            "tensor(0.0017, device='cuda:0', grad_fn=<MseLossBackward0>)\n",
            "tensor(0.0017, device='cuda:0', grad_fn=<MseLossBackward0>)\n",
            "tensor(0.0017, device='cuda:0', grad_fn=<MseLossBackward0>)\n",
            "tensor(0.0017, device='cuda:0', grad_fn=<MseLossBackward0>)\n",
            "tensor(0.0017, device='cuda:0', grad_fn=<MseLossBackward0>)\n",
            "tensor(0.0017, device='cuda:0', grad_fn=<MseLossBackward0>)\n",
            "tensor(0.0017, device='cuda:0', grad_fn=<MseLossBackward0>)\n",
            "tensor(0.0017, device='cuda:0', grad_fn=<MseLossBackward0>)\n",
            "tensor(0.0017, device='cuda:0', grad_fn=<MseLossBackward0>)\n",
            "tensor(0.0017, device='cuda:0', grad_fn=<MseLossBackward0>)\n",
            "tensor(0.0017, device='cuda:0', grad_fn=<MseLossBackward0>)\n",
            "tensor(0.0017, device='cuda:0', grad_fn=<MseLossBackward0>)\n",
            "tensor(0.0017, device='cuda:0', grad_fn=<MseLossBackward0>)\n",
            "tensor(0.0017, device='cuda:0', grad_fn=<MseLossBackward0>)\n",
            "tensor(0.0017, device='cuda:0', grad_fn=<MseLossBackward0>)\n",
            "tensor(0.0017, device='cuda:0', grad_fn=<MseLossBackward0>)\n",
            "tensor(0.0017, device='cuda:0', grad_fn=<MseLossBackward0>)\n",
            "tensor(0.0017, device='cuda:0', grad_fn=<MseLossBackward0>)\n",
            "tensor(0.0017, device='cuda:0', grad_fn=<MseLossBackward0>)\n",
            "tensor(0.0017, device='cuda:0', grad_fn=<MseLossBackward0>)\n",
            "tensor(0.0017, device='cuda:0', grad_fn=<MseLossBackward0>)\n",
            "tensor(0.0017, device='cuda:0', grad_fn=<MseLossBackward0>)\n",
            "tensor(0.0017, device='cuda:0', grad_fn=<MseLossBackward0>)\n",
            "tensor(0.0017, device='cuda:0', grad_fn=<MseLossBackward0>)\n",
            "tensor(0.0017, device='cuda:0', grad_fn=<MseLossBackward0>)\n",
            "tensor(0.0016, device='cuda:0', grad_fn=<MseLossBackward0>)\n",
            "tensor(0.0016, device='cuda:0', grad_fn=<MseLossBackward0>)\n",
            "tensor(0.0016, device='cuda:0', grad_fn=<MseLossBackward0>)\n",
            "tensor(0.0016, device='cuda:0', grad_fn=<MseLossBackward0>)\n",
            "tensor(0.0016, device='cuda:0', grad_fn=<MseLossBackward0>)\n",
            "tensor(0.0016, device='cuda:0', grad_fn=<MseLossBackward0>)\n",
            "tensor(0.0016, device='cuda:0', grad_fn=<MseLossBackward0>)\n",
            "tensor(0.0016, device='cuda:0', grad_fn=<MseLossBackward0>)\n",
            "tensor(0.0016, device='cuda:0', grad_fn=<MseLossBackward0>)\n",
            "tensor(0.0016, device='cuda:0', grad_fn=<MseLossBackward0>)\n",
            "tensor(0.0016, device='cuda:0', grad_fn=<MseLossBackward0>)\n",
            "tensor(0.0016, device='cuda:0', grad_fn=<MseLossBackward0>)\n",
            "tensor(0.0016, device='cuda:0', grad_fn=<MseLossBackward0>)\n",
            "tensor(0.0016, device='cuda:0', grad_fn=<MseLossBackward0>)\n",
            "tensor(0.0016, device='cuda:0', grad_fn=<MseLossBackward0>)\n",
            "tensor(0.0016, device='cuda:0', grad_fn=<MseLossBackward0>)\n",
            "tensor(0.0016, device='cuda:0', grad_fn=<MseLossBackward0>)\n",
            "tensor(0.0016, device='cuda:0', grad_fn=<MseLossBackward0>)\n",
            "tensor(0.0016, device='cuda:0', grad_fn=<MseLossBackward0>)\n",
            "tensor(0.0016, device='cuda:0', grad_fn=<MseLossBackward0>)\n",
            "tensor(0.0016, device='cuda:0', grad_fn=<MseLossBackward0>)\n",
            "tensor(0.0016, device='cuda:0', grad_fn=<MseLossBackward0>)\n",
            "tensor(0.0016, device='cuda:0', grad_fn=<MseLossBackward0>)\n",
            "tensor(0.0016, device='cuda:0', grad_fn=<MseLossBackward0>)\n",
            "tensor(0.0016, device='cuda:0', grad_fn=<MseLossBackward0>)\n",
            "tensor(0.0016, device='cuda:0', grad_fn=<MseLossBackward0>)\n",
            "tensor(0.0016, device='cuda:0', grad_fn=<MseLossBackward0>)\n",
            "tensor(0.0016, device='cuda:0', grad_fn=<MseLossBackward0>)\n",
            "tensor(0.0016, device='cuda:0', grad_fn=<MseLossBackward0>)\n",
            "tensor(0.0016, device='cuda:0', grad_fn=<MseLossBackward0>)\n",
            "tensor(0.0016, device='cuda:0', grad_fn=<MseLossBackward0>)\n",
            "tensor(0.0016, device='cuda:0', grad_fn=<MseLossBackward0>)\n",
            "tensor(0.0016, device='cuda:0', grad_fn=<MseLossBackward0>)\n",
            "tensor(0.0016, device='cuda:0', grad_fn=<MseLossBackward0>)\n",
            "tensor(0.0016, device='cuda:0', grad_fn=<MseLossBackward0>)\n",
            "tensor(0.0016, device='cuda:0', grad_fn=<MseLossBackward0>)\n",
            "tensor(0.0016, device='cuda:0', grad_fn=<MseLossBackward0>)\n",
            "tensor(0.0016, device='cuda:0', grad_fn=<MseLossBackward0>)\n",
            "tensor(0.0016, device='cuda:0', grad_fn=<MseLossBackward0>)\n",
            "tensor(0.0016, device='cuda:0', grad_fn=<MseLossBackward0>)\n",
            "tensor(0.0016, device='cuda:0', grad_fn=<MseLossBackward0>)\n",
            "tensor(0.0016, device='cuda:0', grad_fn=<MseLossBackward0>)\n",
            "tensor(0.0016, device='cuda:0', grad_fn=<MseLossBackward0>)\n",
            "tensor(0.0016, device='cuda:0', grad_fn=<MseLossBackward0>)\n",
            "tensor(0.0016, device='cuda:0', grad_fn=<MseLossBackward0>)\n",
            "tensor(0.0016, device='cuda:0', grad_fn=<MseLossBackward0>)\n",
            "tensor(0.0016, device='cuda:0', grad_fn=<MseLossBackward0>)\n",
            "tensor(0.0016, device='cuda:0', grad_fn=<MseLossBackward0>)\n",
            "tensor(0.0016, device='cuda:0', grad_fn=<MseLossBackward0>)\n",
            "tensor(0.0016, device='cuda:0', grad_fn=<MseLossBackward0>)\n",
            "tensor(0.0016, device='cuda:0', grad_fn=<MseLossBackward0>)\n",
            "tensor(0.0016, device='cuda:0', grad_fn=<MseLossBackward0>)\n",
            "tensor(0.0016, device='cuda:0', grad_fn=<MseLossBackward0>)\n",
            "tensor(0.0016, device='cuda:0', grad_fn=<MseLossBackward0>)\n",
            "tensor(0.0016, device='cuda:0', grad_fn=<MseLossBackward0>)\n",
            "tensor(0.0016, device='cuda:0', grad_fn=<MseLossBackward0>)\n",
            "tensor(0.0016, device='cuda:0', grad_fn=<MseLossBackward0>)\n",
            "tensor(0.0016, device='cuda:0', grad_fn=<MseLossBackward0>)\n",
            "tensor(0.0016, device='cuda:0', grad_fn=<MseLossBackward0>)\n",
            "tensor(0.0016, device='cuda:0', grad_fn=<MseLossBackward0>)\n",
            "tensor(0.0016, device='cuda:0', grad_fn=<MseLossBackward0>)\n",
            "tensor(0.0016, device='cuda:0', grad_fn=<MseLossBackward0>)\n",
            "tensor(0.0016, device='cuda:0', grad_fn=<MseLossBackward0>)\n",
            "tensor(0.0016, device='cuda:0', grad_fn=<MseLossBackward0>)\n",
            "tensor(0.0016, device='cuda:0', grad_fn=<MseLossBackward0>)\n",
            "tensor(0.0016, device='cuda:0', grad_fn=<MseLossBackward0>)\n",
            "tensor(0.0016, device='cuda:0', grad_fn=<MseLossBackward0>)\n",
            "tensor(0.0016, device='cuda:0', grad_fn=<MseLossBackward0>)\n",
            "tensor(0.0016, device='cuda:0', grad_fn=<MseLossBackward0>)\n",
            "tensor(0.0016, device='cuda:0', grad_fn=<MseLossBackward0>)\n",
            "tensor(0.0016, device='cuda:0', grad_fn=<MseLossBackward0>)\n",
            "tensor(0.0016, device='cuda:0', grad_fn=<MseLossBackward0>)\n",
            "tensor(0.0016, device='cuda:0', grad_fn=<MseLossBackward0>)\n",
            "tensor(0.0016, device='cuda:0', grad_fn=<MseLossBackward0>)\n",
            "tensor(0.0016, device='cuda:0', grad_fn=<MseLossBackward0>)\n",
            "tensor(0.0016, device='cuda:0', grad_fn=<MseLossBackward0>)\n",
            "tensor(0.0016, device='cuda:0', grad_fn=<MseLossBackward0>)\n",
            "tensor(0.0016, device='cuda:0', grad_fn=<MseLossBackward0>)\n",
            "tensor(0.0016, device='cuda:0', grad_fn=<MseLossBackward0>)\n",
            "tensor(0.0016, device='cuda:0', grad_fn=<MseLossBackward0>)\n",
            "tensor(0.0016, device='cuda:0', grad_fn=<MseLossBackward0>)\n",
            "tensor(0.0016, device='cuda:0', grad_fn=<MseLossBackward0>)\n",
            "tensor(0.0016, device='cuda:0', grad_fn=<MseLossBackward0>)\n",
            "tensor(0.0016, device='cuda:0', grad_fn=<MseLossBackward0>)\n",
            "tensor(0.0016, device='cuda:0', grad_fn=<MseLossBackward0>)\n",
            "tensor(0.0016, device='cuda:0', grad_fn=<MseLossBackward0>)\n",
            "tensor(0.0016, device='cuda:0', grad_fn=<MseLossBackward0>)\n",
            "tensor(0.0016, device='cuda:0', grad_fn=<MseLossBackward0>)\n",
            "tensor(0.0016, device='cuda:0', grad_fn=<MseLossBackward0>)\n",
            "tensor(0.0016, device='cuda:0', grad_fn=<MseLossBackward0>)\n",
            "tensor(0.0016, device='cuda:0', grad_fn=<MseLossBackward0>)\n",
            "tensor(0.0016, device='cuda:0', grad_fn=<MseLossBackward0>)\n",
            "tensor(0.0016, device='cuda:0', grad_fn=<MseLossBackward0>)\n",
            "tensor(0.0016, device='cuda:0', grad_fn=<MseLossBackward0>)\n",
            "tensor(0.0016, device='cuda:0', grad_fn=<MseLossBackward0>)\n",
            "tensor(0.0016, device='cuda:0', grad_fn=<MseLossBackward0>)\n",
            "tensor(0.0016, device='cuda:0', grad_fn=<MseLossBackward0>)\n",
            "tensor(0.0016, device='cuda:0', grad_fn=<MseLossBackward0>)\n",
            "tensor(0.0016, device='cuda:0', grad_fn=<MseLossBackward0>)\n",
            "tensor(0.0016, device='cuda:0', grad_fn=<MseLossBackward0>)\n",
            "tensor(0.0016, device='cuda:0', grad_fn=<MseLossBackward0>)\n",
            "tensor(0.0016, device='cuda:0', grad_fn=<MseLossBackward0>)\n",
            "tensor(0.0016, device='cuda:0', grad_fn=<MseLossBackward0>)\n",
            "tensor(0.0016, device='cuda:0', grad_fn=<MseLossBackward0>)\n",
            "tensor(0.0016, device='cuda:0', grad_fn=<MseLossBackward0>)\n",
            "tensor(0.0016, device='cuda:0', grad_fn=<MseLossBackward0>)\n",
            "tensor(0.0016, device='cuda:0', grad_fn=<MseLossBackward0>)\n",
            "tensor(0.0016, device='cuda:0', grad_fn=<MseLossBackward0>)\n",
            "tensor(0.0016, device='cuda:0', grad_fn=<MseLossBackward0>)\n",
            "tensor(0.0016, device='cuda:0', grad_fn=<MseLossBackward0>)\n",
            "tensor(0.0016, device='cuda:0', grad_fn=<MseLossBackward0>)\n",
            "tensor(0.0016, device='cuda:0', grad_fn=<MseLossBackward0>)\n",
            "tensor(0.0016, device='cuda:0', grad_fn=<MseLossBackward0>)\n",
            "tensor(0.0016, device='cuda:0', grad_fn=<MseLossBackward0>)\n",
            "tensor(0.0016, device='cuda:0', grad_fn=<MseLossBackward0>)\n",
            "tensor(0.0016, device='cuda:0', grad_fn=<MseLossBackward0>)\n",
            "tensor(0.0016, device='cuda:0', grad_fn=<MseLossBackward0>)\n",
            "tensor(0.0016, device='cuda:0', grad_fn=<MseLossBackward0>)\n",
            "tensor(0.0016, device='cuda:0', grad_fn=<MseLossBackward0>)\n",
            "tensor(0.0016, device='cuda:0', grad_fn=<MseLossBackward0>)\n",
            "tensor(0.0016, device='cuda:0', grad_fn=<MseLossBackward0>)\n",
            "tensor(0.0016, device='cuda:0', grad_fn=<MseLossBackward0>)\n",
            "tensor(0.0016, device='cuda:0', grad_fn=<MseLossBackward0>)\n",
            "tensor(0.0016, device='cuda:0', grad_fn=<MseLossBackward0>)\n",
            "tensor(0.0016, device='cuda:0', grad_fn=<MseLossBackward0>)\n",
            "tensor(0.0016, device='cuda:0', grad_fn=<MseLossBackward0>)\n",
            "tensor(0.0016, device='cuda:0', grad_fn=<MseLossBackward0>)\n",
            "tensor(0.0016, device='cuda:0', grad_fn=<MseLossBackward0>)\n",
            "tensor(0.0016, device='cuda:0', grad_fn=<MseLossBackward0>)\n",
            "tensor(0.0016, device='cuda:0', grad_fn=<MseLossBackward0>)\n",
            "tensor(0.0016, device='cuda:0', grad_fn=<MseLossBackward0>)\n",
            "tensor(0.0016, device='cuda:0', grad_fn=<MseLossBackward0>)\n",
            "tensor(0.0016, device='cuda:0', grad_fn=<MseLossBackward0>)\n",
            "tensor(0.0016, device='cuda:0', grad_fn=<MseLossBackward0>)\n",
            "tensor(0.0016, device='cuda:0', grad_fn=<MseLossBackward0>)\n",
            "tensor(0.0016, device='cuda:0', grad_fn=<MseLossBackward0>)\n",
            "tensor(0.0016, device='cuda:0', grad_fn=<MseLossBackward0>)\n",
            "tensor(0.0016, device='cuda:0', grad_fn=<MseLossBackward0>)\n",
            "tensor(0.0016, device='cuda:0', grad_fn=<MseLossBackward0>)\n",
            "tensor(0.0016, device='cuda:0', grad_fn=<MseLossBackward0>)\n",
            "tensor(0.0016, device='cuda:0', grad_fn=<MseLossBackward0>)\n",
            "tensor(0.0016, device='cuda:0', grad_fn=<MseLossBackward0>)\n",
            "tensor(0.0016, device='cuda:0', grad_fn=<MseLossBackward0>)\n",
            "tensor(0.0016, device='cuda:0', grad_fn=<MseLossBackward0>)\n",
            "tensor(0.0016, device='cuda:0', grad_fn=<MseLossBackward0>)\n",
            "tensor(0.0016, device='cuda:0', grad_fn=<MseLossBackward0>)\n",
            "tensor(0.0016, device='cuda:0', grad_fn=<MseLossBackward0>)\n",
            "tensor(0.0016, device='cuda:0', grad_fn=<MseLossBackward0>)\n",
            "tensor(0.0016, device='cuda:0', grad_fn=<MseLossBackward0>)\n",
            "tensor(0.0016, device='cuda:0', grad_fn=<MseLossBackward0>)\n",
            "tensor(0.0016, device='cuda:0', grad_fn=<MseLossBackward0>)\n",
            "tensor(0.0016, device='cuda:0', grad_fn=<MseLossBackward0>)\n",
            "tensor(0.0016, device='cuda:0', grad_fn=<MseLossBackward0>)\n",
            "tensor(0.0016, device='cuda:0', grad_fn=<MseLossBackward0>)\n",
            "tensor(0.0016, device='cuda:0', grad_fn=<MseLossBackward0>)\n",
            "tensor(0.0016, device='cuda:0', grad_fn=<MseLossBackward0>)\n",
            "tensor(0.0016, device='cuda:0', grad_fn=<MseLossBackward0>)\n",
            "tensor(0.0016, device='cuda:0', grad_fn=<MseLossBackward0>)\n",
            "tensor(0.0016, device='cuda:0', grad_fn=<MseLossBackward0>)\n",
            "tensor(0.0016, device='cuda:0', grad_fn=<MseLossBackward0>)\n",
            "tensor(0.0016, device='cuda:0', grad_fn=<MseLossBackward0>)\n",
            "tensor(0.0016, device='cuda:0', grad_fn=<MseLossBackward0>)\n",
            "tensor(0.0016, device='cuda:0', grad_fn=<MseLossBackward0>)\n",
            "tensor(0.0016, device='cuda:0', grad_fn=<MseLossBackward0>)\n",
            "tensor(0.0016, device='cuda:0', grad_fn=<MseLossBackward0>)\n",
            "tensor(0.0016, device='cuda:0', grad_fn=<MseLossBackward0>)\n",
            "tensor(0.0016, device='cuda:0', grad_fn=<MseLossBackward0>)\n",
            "tensor(0.0016, device='cuda:0', grad_fn=<MseLossBackward0>)\n",
            "tensor(0.0016, device='cuda:0', grad_fn=<MseLossBackward0>)\n",
            "tensor(0.0016, device='cuda:0', grad_fn=<MseLossBackward0>)\n",
            "tensor(0.0016, device='cuda:0', grad_fn=<MseLossBackward0>)\n",
            "tensor(0.0016, device='cuda:0', grad_fn=<MseLossBackward0>)\n",
            "tensor(0.0016, device='cuda:0', grad_fn=<MseLossBackward0>)\n",
            "tensor(0.0016, device='cuda:0', grad_fn=<MseLossBackward0>)\n",
            "tensor(0.0016, device='cuda:0', grad_fn=<MseLossBackward0>)\n",
            "tensor(0.0016, device='cuda:0', grad_fn=<MseLossBackward0>)\n",
            "tensor(0.0016, device='cuda:0', grad_fn=<MseLossBackward0>)\n",
            "tensor(0.0016, device='cuda:0', grad_fn=<MseLossBackward0>)\n",
            "tensor(0.0016, device='cuda:0', grad_fn=<MseLossBackward0>)\n",
            "tensor(0.0016, device='cuda:0', grad_fn=<MseLossBackward0>)\n",
            "tensor(0.0016, device='cuda:0', grad_fn=<MseLossBackward0>)\n",
            "tensor(0.0016, device='cuda:0', grad_fn=<MseLossBackward0>)\n",
            "tensor(0.0016, device='cuda:0', grad_fn=<MseLossBackward0>)\n",
            "tensor(0.0016, device='cuda:0', grad_fn=<MseLossBackward0>)\n",
            "tensor(0.0016, device='cuda:0', grad_fn=<MseLossBackward0>)\n",
            "tensor(0.0016, device='cuda:0', grad_fn=<MseLossBackward0>)\n",
            "tensor(0.0016, device='cuda:0', grad_fn=<MseLossBackward0>)\n",
            "tensor(0.0016, device='cuda:0', grad_fn=<MseLossBackward0>)\n",
            "tensor(0.0016, device='cuda:0', grad_fn=<MseLossBackward0>)\n",
            "tensor(0.0016, device='cuda:0', grad_fn=<MseLossBackward0>)\n",
            "tensor(0.0016, device='cuda:0', grad_fn=<MseLossBackward0>)\n",
            "tensor(0.0016, device='cuda:0', grad_fn=<MseLossBackward0>)\n",
            "tensor(0.0016, device='cuda:0', grad_fn=<MseLossBackward0>)\n"
          ]
        },
        {
          "output_type": "error",
          "ename": "KeyboardInterrupt",
          "evalue": "ignored",
          "traceback": [
            "\u001b[0;31m---------------------------------------------------------------------------\u001b[0m",
            "\u001b[0;31mKeyboardInterrupt\u001b[0m                         Traceback (most recent call last)",
            "\u001b[0;32m<ipython-input-31-1ed48c95fbe6>\u001b[0m in \u001b[0;36m<cell line: 63>\u001b[0;34m()\u001b[0m\n\u001b[1;32m     67\u001b[0m     \u001b[0mloss\u001b[0m\u001b[0;34m.\u001b[0m\u001b[0mbackward\u001b[0m\u001b[0;34m(\u001b[0m\u001b[0;34m)\u001b[0m\u001b[0;34m\u001b[0m\u001b[0;34m\u001b[0m\u001b[0m\n\u001b[1;32m     68\u001b[0m     \u001b[0moptimizer\u001b[0m\u001b[0;34m.\u001b[0m\u001b[0mstep\u001b[0m\u001b[0;34m(\u001b[0m\u001b[0;34m)\u001b[0m\u001b[0;34m\u001b[0m\u001b[0;34m\u001b[0m\u001b[0m\n\u001b[0;32m---> 69\u001b[0;31m     \u001b[0mprint\u001b[0m\u001b[0;34m(\u001b[0m\u001b[0mloss\u001b[0m\u001b[0;34m)\u001b[0m\u001b[0;34m\u001b[0m\u001b[0;34m\u001b[0m\u001b[0m\n\u001b[0m",
            "\u001b[0;32m/usr/local/lib/python3.10/dist-packages/torch/_tensor.py\u001b[0m in \u001b[0;36m__repr__\u001b[0;34m(self, tensor_contents)\u001b[0m\n\u001b[1;32m    424\u001b[0m             )\n\u001b[1;32m    425\u001b[0m         \u001b[0;31m# All strings are unicode in Python 3.\u001b[0m\u001b[0;34m\u001b[0m\u001b[0;34m\u001b[0m\u001b[0m\n\u001b[0;32m--> 426\u001b[0;31m         \u001b[0;32mreturn\u001b[0m \u001b[0mtorch\u001b[0m\u001b[0;34m.\u001b[0m\u001b[0m_tensor_str\u001b[0m\u001b[0;34m.\u001b[0m\u001b[0m_str\u001b[0m\u001b[0;34m(\u001b[0m\u001b[0mself\u001b[0m\u001b[0;34m,\u001b[0m \u001b[0mtensor_contents\u001b[0m\u001b[0;34m=\u001b[0m\u001b[0mtensor_contents\u001b[0m\u001b[0;34m)\u001b[0m\u001b[0;34m\u001b[0m\u001b[0;34m\u001b[0m\u001b[0m\n\u001b[0m\u001b[1;32m    427\u001b[0m \u001b[0;34m\u001b[0m\u001b[0m\n\u001b[1;32m    428\u001b[0m     def backward(\n",
            "\u001b[0;32m/usr/local/lib/python3.10/dist-packages/torch/_tensor_str.py\u001b[0m in \u001b[0;36m_str\u001b[0;34m(self, tensor_contents)\u001b[0m\n\u001b[1;32m    634\u001b[0m     \u001b[0;32mwith\u001b[0m \u001b[0mtorch\u001b[0m\u001b[0;34m.\u001b[0m\u001b[0mno_grad\u001b[0m\u001b[0;34m(\u001b[0m\u001b[0;34m)\u001b[0m\u001b[0;34m,\u001b[0m \u001b[0mtorch\u001b[0m\u001b[0;34m.\u001b[0m\u001b[0mutils\u001b[0m\u001b[0;34m.\u001b[0m\u001b[0m_python_dispatch\u001b[0m\u001b[0;34m.\u001b[0m\u001b[0m_disable_current_modes\u001b[0m\u001b[0;34m(\u001b[0m\u001b[0;34m)\u001b[0m\u001b[0;34m:\u001b[0m\u001b[0;34m\u001b[0m\u001b[0;34m\u001b[0m\u001b[0m\n\u001b[1;32m    635\u001b[0m         \u001b[0mguard\u001b[0m \u001b[0;34m=\u001b[0m \u001b[0mtorch\u001b[0m\u001b[0;34m.\u001b[0m\u001b[0m_C\u001b[0m\u001b[0;34m.\u001b[0m\u001b[0m_DisableFuncTorch\u001b[0m\u001b[0;34m(\u001b[0m\u001b[0;34m)\u001b[0m\u001b[0;34m\u001b[0m\u001b[0;34m\u001b[0m\u001b[0m\n\u001b[0;32m--> 636\u001b[0;31m         \u001b[0;32mreturn\u001b[0m \u001b[0m_str_intern\u001b[0m\u001b[0;34m(\u001b[0m\u001b[0mself\u001b[0m\u001b[0;34m,\u001b[0m \u001b[0mtensor_contents\u001b[0m\u001b[0;34m=\u001b[0m\u001b[0mtensor_contents\u001b[0m\u001b[0;34m)\u001b[0m\u001b[0;34m\u001b[0m\u001b[0;34m\u001b[0m\u001b[0m\n\u001b[0m",
            "\u001b[0;32m/usr/local/lib/python3.10/dist-packages/torch/_tensor_str.py\u001b[0m in \u001b[0;36m_str_intern\u001b[0;34m(inp, tensor_contents)\u001b[0m\n\u001b[1;32m    565\u001b[0m                         \u001b[0mtensor_str\u001b[0m \u001b[0;34m=\u001b[0m \u001b[0m_tensor_str\u001b[0m\u001b[0;34m(\u001b[0m\u001b[0mself\u001b[0m\u001b[0;34m.\u001b[0m\u001b[0mto_dense\u001b[0m\u001b[0;34m(\u001b[0m\u001b[0;34m)\u001b[0m\u001b[0;34m,\u001b[0m \u001b[0mindent\u001b[0m\u001b[0;34m)\u001b[0m\u001b[0;34m\u001b[0m\u001b[0;34m\u001b[0m\u001b[0m\n\u001b[1;32m    566\u001b[0m                     \u001b[0;32melse\u001b[0m\u001b[0;34m:\u001b[0m\u001b[0;34m\u001b[0m\u001b[0;34m\u001b[0m\u001b[0m\n\u001b[0;32m--> 567\u001b[0;31m                         \u001b[0mtensor_str\u001b[0m \u001b[0;34m=\u001b[0m \u001b[0m_tensor_str\u001b[0m\u001b[0;34m(\u001b[0m\u001b[0mself\u001b[0m\u001b[0;34m,\u001b[0m \u001b[0mindent\u001b[0m\u001b[0;34m)\u001b[0m\u001b[0;34m\u001b[0m\u001b[0;34m\u001b[0m\u001b[0m\n\u001b[0m\u001b[1;32m    568\u001b[0m \u001b[0;34m\u001b[0m\u001b[0m\n\u001b[1;32m    569\u001b[0m     \u001b[0;32mif\u001b[0m \u001b[0mself\u001b[0m\u001b[0;34m.\u001b[0m\u001b[0mlayout\u001b[0m \u001b[0;34m!=\u001b[0m \u001b[0mtorch\u001b[0m\u001b[0;34m.\u001b[0m\u001b[0mstrided\u001b[0m\u001b[0;34m:\u001b[0m\u001b[0;34m\u001b[0m\u001b[0;34m\u001b[0m\u001b[0m\n",
            "\u001b[0;32m/usr/local/lib/python3.10/dist-packages/torch/_tensor_str.py\u001b[0m in \u001b[0;36m_tensor_str\u001b[0;34m(self, indent)\u001b[0m\n\u001b[1;32m    325\u001b[0m         )\n\u001b[1;32m    326\u001b[0m     \u001b[0;32melse\u001b[0m\u001b[0;34m:\u001b[0m\u001b[0;34m\u001b[0m\u001b[0;34m\u001b[0m\u001b[0m\n\u001b[0;32m--> 327\u001b[0;31m         \u001b[0mformatter\u001b[0m \u001b[0;34m=\u001b[0m \u001b[0m_Formatter\u001b[0m\u001b[0;34m(\u001b[0m\u001b[0mget_summarized_data\u001b[0m\u001b[0;34m(\u001b[0m\u001b[0mself\u001b[0m\u001b[0;34m)\u001b[0m \u001b[0;32mif\u001b[0m \u001b[0msummarize\u001b[0m \u001b[0;32melse\u001b[0m \u001b[0mself\u001b[0m\u001b[0;34m)\u001b[0m\u001b[0;34m\u001b[0m\u001b[0;34m\u001b[0m\u001b[0m\n\u001b[0m\u001b[1;32m    328\u001b[0m         \u001b[0;32mreturn\u001b[0m \u001b[0m_tensor_str_with_formatter\u001b[0m\u001b[0;34m(\u001b[0m\u001b[0mself\u001b[0m\u001b[0;34m,\u001b[0m \u001b[0mindent\u001b[0m\u001b[0;34m,\u001b[0m \u001b[0msummarize\u001b[0m\u001b[0;34m,\u001b[0m \u001b[0mformatter\u001b[0m\u001b[0;34m)\u001b[0m\u001b[0;34m\u001b[0m\u001b[0;34m\u001b[0m\u001b[0m\n\u001b[1;32m    329\u001b[0m \u001b[0;34m\u001b[0m\u001b[0m\n",
            "\u001b[0;32m/usr/local/lib/python3.10/dist-packages/torch/_tensor_str.py\u001b[0m in \u001b[0;36m__init__\u001b[0;34m(self, tensor)\u001b[0m\n\u001b[1;32m    113\u001b[0m \u001b[0;34m\u001b[0m\u001b[0m\n\u001b[1;32m    114\u001b[0m         \u001b[0;32melse\u001b[0m\u001b[0;34m:\u001b[0m\u001b[0;34m\u001b[0m\u001b[0;34m\u001b[0m\u001b[0m\n\u001b[0;32m--> 115\u001b[0;31m             nonzero_finite_vals = torch.masked_select(\n\u001b[0m\u001b[1;32m    116\u001b[0m                 \u001b[0mtensor_view\u001b[0m\u001b[0;34m,\u001b[0m \u001b[0mtorch\u001b[0m\u001b[0;34m.\u001b[0m\u001b[0misfinite\u001b[0m\u001b[0;34m(\u001b[0m\u001b[0mtensor_view\u001b[0m\u001b[0;34m)\u001b[0m \u001b[0;34m&\u001b[0m \u001b[0mtensor_view\u001b[0m\u001b[0;34m.\u001b[0m\u001b[0mne\u001b[0m\u001b[0;34m(\u001b[0m\u001b[0;36m0\u001b[0m\u001b[0;34m)\u001b[0m\u001b[0;34m\u001b[0m\u001b[0;34m\u001b[0m\u001b[0m\n\u001b[1;32m    117\u001b[0m             )\n",
            "\u001b[0;31mKeyboardInterrupt\u001b[0m: "
          ]
        }
      ]
    },
    {
      "cell_type": "markdown",
      "source": [
        "### Define and compute the FID metric (ability to learn the distribution)\n",
        "\n",
        "> train an autoencoder on test data\n",
        "\n"
      ],
      "metadata": {
        "id": "Yc0JjawLULi7"
      }
    },
    {
      "cell_type": "code",
      "source": [
        "data = torch.load('test/test.pt')\n",
        "numSamples = 57\n",
        "EPOCHS = 50\n",
        "loss_func = nn.L1Loss()\n",
        "\n",
        "class AutoEncoder(nn.Module):\n",
        "    def __init__(self):\n",
        "        super(AutoEncoder, self).__init__()\n",
        "        self.encoder = nn.Sequential(nn.Linear(4096,128), nn.ReLU(True), nn.Dropout())\n",
        "        self.decoder = nn.Sequential(nn.Linear(128,4096))\n",
        "\n",
        "    def forward(self,x):\n",
        "        x = self.encoder(x)\n",
        "        x = self.decoder(x)\n",
        "        return x\n",
        "\n",
        "ae = AutoEncoder().cuda()\n",
        "optimizer = torch.optim.Adam(ae.parameters(), lr=1e-3)\n",
        "data = data.reshape(data.shape[0], -1)[:numSamples]\n",
        "losses = []\n",
        "\n",
        "for epoch in range(EPOCHS):\n",
        "    x = torch.autograd.Variable(data[torch.randperm(numSamples)]).cuda()\n",
        "    optimizer.zero_grad()\n",
        "    pred = ae(x)\n",
        "    loss = loss_func(pred, x)\n",
        "    losses.append(loss.cpu().data.item())\n",
        "    loss.backward()\n",
        "    optimizer.step()\n",
        "plt.plot(losses)"
      ],
      "metadata": {
        "colab": {
          "base_uri": "https://localhost:8080/",
          "height": 447
        },
        "id": "LLHKuvUzld6i",
        "outputId": "408cb29b-0e3f-4f8a-ede5-171cc90e1007"
      },
      "execution_count": null,
      "outputs": [
        {
          "output_type": "execute_result",
          "data": {
            "text/plain": [
              "[<matplotlib.lines.Line2D at 0x7f8494305660>]"
            ]
          },
          "metadata": {},
          "execution_count": 6
        },
        {
          "output_type": "display_data",
          "data": {
            "text/plain": [
              "<Figure size 640x480 with 1 Axes>"
            ],
            "image/png": "[encoded data removed]"
          },
          "metadata": {}
        }
      ]
    },
    {
      "cell_type": "markdown",
      "source": [
        "\n",
        "> compute the FID metric usinf the trained autoencoder\n",
        "\n"
      ],
      "metadata": {
        "id": "glGyS5zMS50O"
      }
    },
    {
      "cell_type": "code",
      "source": [
        "ae.eval()\n",
        "data = torch.load('test/test.pt')[0:57]\n",
        "def FID(mu1, mu2, sigma1, sigma2):\n",
        "    eps=1e-30\n",
        "    mu1 = np.atleast_1d(mu1)\n",
        "    mu2 = np.atleast_1d(mu2)\n",
        "\n",
        "    sigma1 = np.atleast_2d(sigma1)\n",
        "    sigma2 = np.atleast_2d(sigma2)\n",
        "\n",
        "    assert mu1.shape == mu2.shape, \"Training and test mean vectors have different lengths\"\n",
        "    assert sigma1.shape == sigma2.shape, \"Training and test covariances have different dimensions\"\n",
        "\n",
        "    diff = mu1 - mu2\n",
        "    # product might be almost singular\n",
        "    covmean, _ = linalg.sqrtm(sigma1.dot(sigma2), disp=False)\n",
        "    if not np.isfinite(covmean).all():\n",
        "        msg = \"fid calculation produces singular product; adding %s to diagonal of cov estimates\" % eps\n",
        "        warnings.warn(msg)\n",
        "        offset = np.eye(sigma1.shape[0]) * eps\n",
        "        covmean = linalg.sqrtm((sigma1 + offset).dot(sigma2 + offset))\n",
        "\n",
        "    # numerical error might give slight imaginary component\n",
        "    if np.iscomplexobj(covmean):\n",
        "        if not np.allclose(np.diagonal(covmean).imag, 0, atol=1e-3):\n",
        "            m = np.max(np.abs(covmean.imag))\n",
        "            raise ValueError(\"Imaginary component {}\".format(m))\n",
        "        covmean = covmean.real\n",
        "\n",
        "    tr_covmean = np.trace(covmean)\n",
        "    return diff.dot(diff) + np.trace(sigma1) + np.trace(sigma2) - 2 * tr_covmean\n",
        "\n",
        "def calcFID(data):\n",
        "    data = data.reshape(data.shape[0], -1)\n",
        "    features = ae.encoder(data.cuda()).detach().cpu().numpy()\n",
        "    mean, covar = np.mean(features, 0), np.cov(features, rowvar=False)\n",
        "    return FID(mean, base_mean, covar, base_covar)\n",
        "\n",
        "gen_data = torch.load(\"ExGAN0.05.pt\")[0:57]\n",
        "gen_data = gen_data.reshape(gen_data.shape[0], -1)\n",
        "base_features = ae.encoder(gen_data.cuda()).detach().cpu().numpy()\n",
        "base_mean, base_covar = np.mean(base_features, 0), np.cov(base_features, rowvar=False)\n",
        "calcFID(data)"
      ],
      "metadata": {
        "colab": {
          "base_uri": "https://localhost:8080/"
        },
        "id": "GTvGiqrajJzn",
        "outputId": "b8a87447-ec47-4b2a-ab8d-a0b45482c792"
      },
      "execution_count": null,
      "outputs": [
        {
          "output_type": "execute_result",
          "data": {
            "text/plain": [
              "86.52360629621599"
            ]
          },
          "metadata": {},
          "execution_count": 19
        }
      ]
    },
    {
      "cell_type": "markdown",
      "source": [
        "### save the results into netcdf"
      ],
      "metadata": {
        "id": "A3fC2UQDX4Py"
      }
    },
    {
      "cell_type": "code",
      "execution_count": null,
      "metadata": {
        "id": "CWWEAq3_xmV8"
      },
      "outputs": [],
      "source": [
        "# Save the Netcdf\n",
        "# ---------------------\n",
        "nyears = 1000;\n",
        "unout = 'days since 2000-01-01 00:00:00'\n",
        "# -----------------------\n",
        "ny, nx = (64,64)\n",
        "lon = np.linspace(-16,0,nx);\n",
        "lat = np.linspace(24,40,ny);\n",
        "maps = np.zeros(shape=(1000, 64,64))\n",
        "for i in range(0,1000) :\n",
        "  maps[i] = resize(images[i, 0, ...], (64,64))\n",
        "maps = (maps+1)*50\n",
        "dataout = maps # create some random data\n",
        "datesout = [datetime.datetime(2000+iyear,1,1) for iyear in range(nyears)]; # create datevalues\n",
        "# =========================\n",
        "ncout = Dataset('Generated_precipitation_100year.nc','w','NETCDF3'); # using netCDF3 for output format\n",
        "ncout.createDimension('lon',nx);\n",
        "ncout.createDimension('lat',ny);\n",
        "ncout.createDimension('time',nyears);\n",
        "lonvar = ncout.createVariable('lon','float32',('lon'));lonvar[:] = lon;\n",
        "latvar = ncout.createVariable('lat','float32',('lat'));latvar[:] = lat;\n",
        "timevar = ncout.createVariable('time','float64',('time'));timevar.setncattr('units',unout);timevar[:]=date2num(datesout,unout);\n",
        "myvar = ncout.createVariable('tp','float32',('time','lat','lon'));myvar.setncattr('units','mm');myvar[:] = dataout;\n",
        "ncout.close();"
      ]
    }
  ],
  "metadata": {
    "accelerator": "GPU",
    "colab": {
      "machine_shape": "hm",
      "provenance": [],
      "include_colab_link": true
    },
    "kernelspec": {
      "display_name": "Python 3",
      "name": "python3"
    }
  },
  "nbformat": 4,
  "nbformat_minor": 0
}